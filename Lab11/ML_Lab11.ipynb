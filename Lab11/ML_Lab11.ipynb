{
  "nbformat": 4,
  "nbformat_minor": 0,
  "metadata": {
    "colab": {
      "provenance": [],
      "authorship_tag": "ABX9TyMIWp7fovHboUYKd/XFcw5J",
      "include_colab_link": true
    },
    "kernelspec": {
      "name": "python3",
      "display_name": "Python 3"
    },
    "language_info": {
      "name": "python"
    }
  },
  "cells": [
    {
      "cell_type": "markdown",
      "metadata": {
        "id": "view-in-github",
        "colab_type": "text"
      },
      "source": [
        "<a href=\"https://colab.research.google.com/github/Meet2020mp/ML_CE098_Meetkumar_Patel/blob/main/Lab11/ML_Lab11.ipynb\" target=\"_parent\"><img src=\"https://colab.research.google.com/assets/colab-badge.svg\" alt=\"Open In Colab\"/></a>"
      ]
    },
    {
      "cell_type": "code",
      "execution_count": 95,
      "metadata": {
        "id": "rNxQQ9oc4-4z"
      },
      "outputs": [],
      "source": [
        "import sys, os\n",
        "import matplotlib.pyplot as plt\n",
        "from sklearn import svm\n",
        "from sklearn.model_selection import train_test_split\n",
        "import numpy as np"
      ]
    },
    {
      "cell_type": "code",
      "source": [
        "from sklearn.datasets import make_blobs\n",
        "from sklearn.datasets import make_classification\n",
        "X, y = make_blobs(n_samples=2000, centers=2)\n",
        "# print(X)\n",
        "# print(y)"
      ],
      "metadata": {
        "id": "lpFLcp878jHG"
      },
      "execution_count": 96,
      "outputs": []
    },
    {
      "cell_type": "code",
      "source": [
        "plt.scatter(X[:, 0], X[:, 1], c=y, s=50, cmap='spring');\n",
        "plt.show()\n",
        "# from matplotlib import pyplot\n",
        "# from pandas import DataFrame\n",
        "# df = DataFrame(dict(x=X[:,0], y=X[:,1], label=y))\n",
        "# colors = {0:'red', 1:'blue', 2:'green'}\n",
        "# fig, ax = pyplot.subplots()\n",
        "# grouped = df.groupby('label')\n",
        "# for key, group in grouped:\n",
        "#     group.plot(ax=ax, kind='scatter', x='x', y='y', label=key, color=colors[key])\n",
        "# pyplot.show()"
      ],
      "metadata": {
        "colab": {
          "base_uri": "https://localhost:8080/",
          "height": 265
        },
        "id": "QBjga-nO_WjM",
        "outputId": "e8ebd053-16f3-488c-a150-97256d64f8e9"
      },
      "execution_count": 97,
      "outputs": [
        {
          "output_type": "display_data",
          "data": {
            "text/plain": [
              "<Figure size 432x288 with 1 Axes>"
            ],
            "image/png": "[encoded data removed]"
          },
          "metadata": {
            "needs_background": "light"
          }
        }
      ]
    },
    {
      "cell_type": "code",
      "source": [
        "X_train , X_test , y_train, y_test = train_test_split(X, y, random_state=98,test_size=0.2)\n",
        "clf = svm.SVC(C=0.5,kernel='linear')\n",
        "clf.fit(X_train,y_train)"
      ],
      "metadata": {
        "colab": {
          "base_uri": "https://localhost:8080/",
          "height": 74
        },
        "id": "upcfvqPU-Akc",
        "outputId": "56fbba50-fda6-4389-9b82-0767730fa88f"
      },
      "execution_count": 98,
      "outputs": [
        {
          "output_type": "execute_result",
          "data": {
            "text/plain": [
              "SVC(C=0.5, kernel='linear')"
            ],
            "text/html": [
              "<style>#sk-container-id-16 {color: black;background-color: white;}#sk-container-id-16 pre{padding: 0;}#sk-container-id-16 div.sk-toggleable {background-color: white;}#sk-container-id-16 label.sk-toggleable__label {cursor: pointer;display: block;width: 100%;margin-bottom: 0;padding: 0.3em;box-sizing: border-box;text-align: center;}#sk-container-id-16 label.sk-toggleable__label-arrow:before {content: \"▸\";float: left;margin-right: 0.25em;color: #696969;}#sk-container-id-16 label.sk-toggleable__label-arrow:hover:before {color: black;}#sk-container-id-16 div.sk-estimator:hover label.sk-toggleable__label-arrow:before {color: black;}#sk-container-id-16 div.sk-toggleable__content {max-height: 0;max-width: 0;overflow: hidden;text-align: left;background-color: #f0f8ff;}#sk-container-id-16 div.sk-toggleable__content pre {margin: 0.2em;color: black;border-radius: 0.25em;background-color: #f0f8ff;}#sk-container-id-16 input.sk-toggleable__control:checked~div.sk-toggleable__content {max-height: 200px;max-width: 100%;overflow: auto;}#sk-container-id-16 input.sk-toggleable__control:checked~label.sk-toggleable__label-arrow:before {content: \"▾\";}#sk-container-id-16 div.sk-estimator input.sk-toggleable__control:checked~label.sk-toggleable__label {background-color: #d4ebff;}#sk-container-id-16 div.sk-label input.sk-toggleable__control:checked~label.sk-toggleable__label {background-color: #d4ebff;}#sk-container-id-16 input.sk-hidden--visually {border: 0;clip: rect(1px 1px 1px 1px);clip: rect(1px, 1px, 1px, 1px);height: 1px;margin: -1px;overflow: hidden;padding: 0;position: absolute;width: 1px;}#sk-container-id-16 div.sk-estimator {font-family: monospace;background-color: #f0f8ff;border: 1px dotted black;border-radius: 0.25em;box-sizing: border-box;margin-bottom: 0.5em;}#sk-container-id-16 div.sk-estimator:hover {background-color: #d4ebff;}#sk-container-id-16 div.sk-parallel-item::after {content: \"\";width: 100%;border-bottom: 1px solid gray;flex-grow: 1;}#sk-container-id-16 div.sk-label:hover label.sk-toggleable__label {background-color: #d4ebff;}#sk-container-id-16 div.sk-serial::before {content: \"\";position: absolute;border-left: 1px solid gray;box-sizing: border-box;top: 0;bottom: 0;left: 50%;z-index: 0;}#sk-container-id-16 div.sk-serial {display: flex;flex-direction: column;align-items: center;background-color: white;padding-right: 0.2em;padding-left: 0.2em;position: relative;}#sk-container-id-16 div.sk-item {position: relative;z-index: 1;}#sk-container-id-16 div.sk-parallel {display: flex;align-items: stretch;justify-content: center;background-color: white;position: relative;}#sk-container-id-16 div.sk-item::before, #sk-container-id-16 div.sk-parallel-item::before {content: \"\";position: absolute;border-left: 1px solid gray;box-sizing: border-box;top: 0;bottom: 0;left: 50%;z-index: -1;}#sk-container-id-16 div.sk-parallel-item {display: flex;flex-direction: column;z-index: 1;position: relative;background-color: white;}#sk-container-id-16 div.sk-parallel-item:first-child::after {align-self: flex-end;width: 50%;}#sk-container-id-16 div.sk-parallel-item:last-child::after {align-self: flex-start;width: 50%;}#sk-container-id-16 div.sk-parallel-item:only-child::after {width: 0;}#sk-container-id-16 div.sk-dashed-wrapped {border: 1px dashed gray;margin: 0 0.4em 0.5em 0.4em;box-sizing: border-box;padding-bottom: 0.4em;background-color: white;}#sk-container-id-16 div.sk-label label {font-family: monospace;font-weight: bold;display: inline-block;line-height: 1.2em;}#sk-container-id-16 div.sk-label-container {text-align: center;}#sk-container-id-16 div.sk-container {/* jupyter's `normalize.less` sets `[hidden] { display: none; }` but bootstrap.min.css set `[hidden] { display: none !important; }` so we also need the `!important` here to be able to override the default hidden behavior on the sphinx rendered scikit-learn.org. See: https://github.com/scikit-learn/scikit-learn/issues/21755 */display: inline-block !important;position: relative;}#sk-container-id-16 div.sk-text-repr-fallback {display: none;}</style><div id=\"sk-container-id-16\" class=\"sk-top-container\"><div class=\"sk-text-repr-fallback\"><pre>SVC(C=0.5, kernel=&#x27;linear&#x27;)</pre><b>In a Jupyter environment, please rerun this cell to show the HTML representation or trust the notebook. <br />On GitHub, the HTML representation is unable to render, please try loading this page with nbviewer.org.</b></div><div class=\"sk-container\" hidden><div class=\"sk-item\"><div class=\"sk-estimator sk-toggleable\"><input class=\"sk-toggleable__control sk-hidden--visually\" id=\"sk-estimator-id-16\" type=\"checkbox\" checked><label for=\"sk-estimator-id-16\" class=\"sk-toggleable__label sk-toggleable__label-arrow\">SVC</label><div class=\"sk-toggleable__content\"><pre>SVC(C=0.5, kernel=&#x27;linear&#x27;)</pre></div></div></div></div></div>"
            ]
          },
          "metadata": {},
          "execution_count": 98
        }
      ]
    },
    {
      "cell_type": "code",
      "source": [
        "clf.decision_function(X_train)\n",
        "clf.decision_function(X_test)"
      ],
      "metadata": {
        "colab": {
          "base_uri": "https://localhost:8080/"
        },
        "id": "OuW2Q1GvA_Mr",
        "outputId": "c6044584-d114-4c29-f62b-6bbd72ba87ad"
      },
      "execution_count": 99,
      "outputs": [
        {
          "output_type": "execute_result",
          "data": {
            "text/plain": [
              "array([ 2.23921057, -2.5405778 , -2.65493233, -2.23473523,  2.72556191,\n",
              "       -1.98831463,  1.95159546,  2.94306796, -2.36212907,  2.03394866,\n",
              "        1.90401029, -2.28056047,  2.83206272,  2.30822198, -2.49729765,\n",
              "       -3.00622024,  2.94107977,  3.16838842, -2.3555954 ,  2.8416448 ,\n",
              "        2.00657659,  2.42913422, -1.09098056, -2.1210293 ,  3.53905179,\n",
              "        3.09673521, -1.82686566, -1.99073906,  3.04623959, -3.0541246 ,\n",
              "        2.26574722,  3.01894522, -2.69670893, -2.72364596, -2.39256835,\n",
              "       -2.78346251,  2.57204799, -2.77968279,  3.27285497, -2.08223695,\n",
              "       -2.8853369 ,  3.316885  ,  2.27686597, -1.98783112,  3.1420889 ,\n",
              "       -1.2418631 , -1.61381828,  2.68743856, -2.42104134, -2.03735754,\n",
              "        2.11966082, -2.81221942,  2.07900105,  2.5064042 , -2.38982386,\n",
              "       -2.47668894, -2.81513087, -2.41202662,  2.54266614, -2.57923625,\n",
              "       -2.34570615, -2.33865094, -2.3241119 , -4.16992978,  2.66460067,\n",
              "       -3.86642891, -2.67932549,  2.72651979,  3.18014758, -2.27101056,\n",
              "       -1.94790905,  2.10048248, -3.16886918, -2.60536714, -2.51785846,\n",
              "        1.98128619,  2.79713558, -1.5326723 ,  3.38718483,  3.37729454,\n",
              "        3.16252864, -2.98986529, -1.86423099,  2.80058461, -2.74475159,\n",
              "        2.67079144, -2.07881815,  2.35295154,  2.44853414, -1.76968486,\n",
              "        1.8658292 , -2.6783681 ,  2.27628394, -2.23514219, -3.23866721,\n",
              "        2.27176052,  2.89859871, -2.28452775, -2.62225569,  1.41608535,\n",
              "        2.61708451,  3.19271011,  3.33381423,  2.81173707, -2.65849634,\n",
              "        1.60496227,  2.92243615, -2.6262244 , -3.12579943,  2.51953012,\n",
              "        2.06108125, -3.02629386, -2.20118512, -2.52137897,  2.5690099 ,\n",
              "        2.60198363, -1.89800122,  2.70368608, -2.7918187 ,  2.5871805 ,\n",
              "        2.00549047,  1.96499383,  1.70661043,  2.70868861,  2.72966495,\n",
              "       -3.04163472, -2.69566546,  2.08832023,  2.46933386, -2.31829715,\n",
              "       -2.55369563,  2.71499905, -2.77941993,  1.87972002,  3.52874019,\n",
              "        2.85573227, -2.35622183,  2.59938296, -1.74009257,  2.58315478,\n",
              "       -1.85359876,  3.24636609,  2.66395486,  2.00830612,  2.37395133,\n",
              "        3.60985144, -2.26098412,  1.81587504,  3.15242054, -3.31243949,\n",
              "       -1.71338711,  2.06692054,  2.77067516,  1.74903084, -1.87427454,\n",
              "        3.04498329,  2.84597654, -3.28585244, -2.34432911,  2.60876953,\n",
              "       -2.12058583, -2.94617414,  2.46024175, -2.72370655,  2.83819757,\n",
              "       -3.09809535, -2.7826399 ,  3.20209069,  2.57245339,  2.81031443,\n",
              "        3.6157989 ,  2.93937412, -2.82397439,  2.42552014,  2.36123253,\n",
              "       -2.10309085, -1.74145649, -2.07948675,  2.60855083,  2.82588316,\n",
              "        3.09307663, -2.59908381, -2.95481201, -2.04770554,  1.56420296,\n",
              "        2.52285622, -2.4488808 , -3.61984491, -2.6538111 ,  2.43949575,\n",
              "       -1.69451523,  2.93902368, -2.79782337,  2.76779156,  2.97707293,\n",
              "       -2.73986207, -2.32439857,  1.71341691,  2.71744108,  2.89024019,\n",
              "       -2.97326782,  2.12739881,  2.69210292, -2.56198131, -2.06563673,\n",
              "        1.72692149, -2.11043523, -2.02439205, -2.02313882,  3.1806835 ,\n",
              "        2.52025267,  2.55242446, -1.82753884, -2.0867047 , -1.68679186,\n",
              "       -2.26146074, -2.19249657, -2.63001363, -3.11761361, -2.75420084,\n",
              "        3.08482751, -2.82440755,  2.49798553,  3.13739133, -2.34149463,\n",
              "       -2.08650921,  2.86655849, -3.1734271 ,  3.23945859,  2.94300782,\n",
              "       -2.67837684,  2.25245235,  2.77280694, -2.21292687,  2.25918534,\n",
              "       -2.60495075,  2.7132782 ,  2.61497618, -2.6981813 ,  1.75376229,\n",
              "       -2.31414224, -1.90096389, -2.38317437, -1.91369673, -1.61386395,\n",
              "       -2.51321863, -2.36506869,  2.58534821, -2.39652781,  1.57394174,\n",
              "       -3.61121781,  3.38754728, -2.89672615,  3.14469239,  2.08046882,\n",
              "        2.5592555 , -2.97870106,  3.59140488,  3.39198607, -1.76222811,\n",
              "       -2.8412115 ,  2.56861671,  2.8407572 , -1.81598753, -2.47045542,\n",
              "       -2.43580942,  2.17628909,  2.51873452, -2.04279613,  4.02669371,\n",
              "        2.61962643,  2.15803258, -2.30404545, -1.32716151,  3.35460766,\n",
              "       -1.89775516, -2.66031597, -3.34360734, -1.86006804,  2.96189313,\n",
              "       -2.23357993,  2.82530668,  2.57884154,  1.43254302, -1.41574109,\n",
              "        2.86063491,  2.20593264,  2.68828943, -2.23872914,  2.35067864,\n",
              "       -1.98942514, -2.29397344,  3.03952893, -2.88830194,  2.21587019,\n",
              "       -2.2498348 ,  3.14438657,  2.63670446, -2.17266928,  2.37787245,\n",
              "        2.80732397,  1.88274042, -1.99840873,  3.23175805, -1.97997951,\n",
              "       -2.21049773, -2.81919231,  2.83545088, -1.76999826, -3.09136966,\n",
              "        2.72021729, -2.04422215, -2.23490524,  2.51169518,  2.35124725,\n",
              "        2.99585404,  3.48747078,  3.0154851 , -2.83905612,  2.3366608 ,\n",
              "        2.75124923,  2.6615466 ,  2.92793052, -2.65673591, -3.25192891,\n",
              "       -3.24102785,  2.49256727,  2.31046854,  3.33070922, -2.73051749,\n",
              "       -2.10937674, -2.79321355,  2.74973477,  3.11116365, -1.94434557,\n",
              "       -2.69708886, -2.74957035, -1.87177035, -2.93454509, -3.11793413,\n",
              "       -2.47541076,  2.31986519,  2.62132163,  2.21179191, -2.29268755,\n",
              "       -1.60009589, -1.81966892,  2.92101635,  3.65495674, -1.94682277,\n",
              "        2.25924085, -2.87396182, -2.65107219,  1.13806359, -3.34065512,\n",
              "       -1.98096422,  2.62305082, -2.16777294, -1.933477  ,  3.17606466,\n",
              "       -2.35209674, -2.48148497, -2.22670331, -2.34323092, -2.75238746,\n",
              "       -2.39072522, -2.21784026,  2.36087145, -2.01439044, -2.94162283,\n",
              "        1.69330132,  2.28528733,  3.23712429, -2.0405701 , -2.4932378 ,\n",
              "        3.38248797,  3.0379638 ,  2.43805022, -1.85498903, -2.60632986,\n",
              "        3.4141999 , -1.58017647, -1.86072094, -2.75183941, -2.08996648,\n",
              "       -2.14366091, -2.39638316, -3.04527622,  1.99852402,  2.52228381,\n",
              "        2.26297427, -2.40836269,  2.40924011, -2.31753558, -2.1579619 ,\n",
              "       -2.23624497, -2.38194663, -2.82985558, -2.68221133, -2.32262867])"
            ]
          },
          "metadata": {},
          "execution_count": 99
        }
      ]
    },
    {
      "cell_type": "code",
      "source": [
        "y_pred=clf.predict(X_test)"
      ],
      "metadata": {
        "id": "SF7IpA04B-ry"
      },
      "execution_count": 100,
      "outputs": []
    },
    {
      "cell_type": "code",
      "source": [
        "from sklearn import metrics\n",
        "print(\"Accuracy:\",metrics.accuracy_score(y_test, y_pred))\n",
        "print(\"Precision:\",metrics.precision_score(y_test, y_pred))\n",
        "print(\"Recall:\",metrics.recall_score(y_test, y_pred))"
      ],
      "metadata": {
        "colab": {
          "base_uri": "https://localhost:8080/"
        },
        "id": "oyGFCSdPKOIF",
        "outputId": "b81624e8-adf1-4d22-e171-de4b30d678c4"
      },
      "execution_count": 101,
      "outputs": [
        {
          "output_type": "stream",
          "name": "stdout",
          "text": [
            "Accuracy: 1.0\n",
            "Precision: 1.0\n",
            "Recall: 1.0\n"
          ]
        }
      ]
    },
    {
      "cell_type": "code",
      "source": [
        "X_train , X_test , y_train, y_test = train_test_split(X, y, random_state=98,test_size=0.2)\n",
        "clf = svm.SVC(C=0.5,kernel='poly')\n",
        "clf.fit(X_train,y_train)\n",
        "clf.decision_function(X_train)\n",
        "clf.decision_function(X_test)\n",
        "y_pred=clf.predict(X_test)\n",
        "print(\"Accuracy:\",metrics.accuracy_score(y_test, y_pred))\n",
        "print(\"Precision:\",metrics.precision_score(y_test, y_pred))\n",
        "print(\"Recall:\",metrics.recall_score(y_test, y_pred))"
      ],
      "metadata": {
        "colab": {
          "base_uri": "https://localhost:8080/"
        },
        "id": "K6pNLb7kmhUX",
        "outputId": "68c15d93-ea05-44a2-8d8d-c4e833db8a8c"
      },
      "execution_count": 115,
      "outputs": [
        {
          "output_type": "stream",
          "name": "stdout",
          "text": [
            "Accuracy: 1.0\n",
            "Precision: 1.0\n",
            "Recall: 1.0\n"
          ]
        }
      ]
    },
    {
      "cell_type": "code",
      "source": [
        "X_train , X_test , y_train, y_test = train_test_split(X, y, random_state=98,test_size=0.2)\n",
        "clf = svm.SVC(C=2,kernel='poly')\n",
        "clf.fit(X_train,y_train)\n",
        "clf.decision_function(X_train)\n",
        "clf.decision_function(X_test)\n",
        "y_pred=clf.predict(X_test)\n",
        "print(\"Accuracy:\",metrics.accuracy_score(y_test, y_pred))\n",
        "print(\"Precision:\",metrics.precision_score(y_test, y_pred))\n",
        "print(\"Recall:\",metrics.recall_score(y_test, y_pred))"
      ],
      "metadata": {
        "colab": {
          "base_uri": "https://localhost:8080/"
        },
        "id": "vhk6aCYwmwJ2",
        "outputId": "ad5a7edd-0982-46c3-f18d-ac64cbb2f2b5"
      },
      "execution_count": 116,
      "outputs": [
        {
          "output_type": "stream",
          "name": "stdout",
          "text": [
            "Accuracy: 1.0\n",
            "Precision: 1.0\n",
            "Recall: 1.0\n"
          ]
        }
      ]
    },
    {
      "cell_type": "code",
      "source": [
        "X_train , X_test , y_train, y_test = train_test_split(X, y, random_state=98,test_size=0.2)\n",
        "clf = svm.SVC(C=0.8,kernel='rbf')\n",
        "clf.fit(X_train,y_train)\n",
        "clf.decision_function(X_train)\n",
        "clf.decision_function(X_test)\n",
        "y_pred=clf.predict(X_test)\n",
        "print(\"Accuracy:\",metrics.accuracy_score(y_test, y_pred))\n",
        "print(\"Precision:\",metrics.precision_score(y_test, y_pred))\n",
        "print(\"Recall:\",metrics.recall_score(y_test, y_pred))"
      ],
      "metadata": {
        "colab": {
          "base_uri": "https://localhost:8080/"
        },
        "id": "RyVFqerEndnm",
        "outputId": "af947ea1-5a04-4ca4-aa19-b2528904f8a3"
      },
      "execution_count": 120,
      "outputs": [
        {
          "output_type": "stream",
          "name": "stdout",
          "text": [
            "Accuracy: 1.0\n",
            "Precision: 1.0\n",
            "Recall: 1.0\n"
          ]
        }
      ]
    },
    {
      "cell_type": "code",
      "source": [
        "X_train , X_test , y_train, y_test = train_test_split(X, y, random_state=98,test_size=0.2)\n",
        "clf = svm.SVC(C=2,kernel='rbf')\n",
        "clf.fit(X_train,y_train)\n",
        "clf.decision_function(X_train)\n",
        "clf.decision_function(X_test)\n",
        "y_pred=clf.predict(X_test)\n",
        "print(\"Accuracy:\",metrics.accuracy_score(y_test, y_pred))\n",
        "print(\"Precision:\",metrics.precision_score(y_test, y_pred))\n",
        "print(\"Recall:\",metrics.recall_score(y_test, y_pred))"
      ],
      "metadata": {
        "colab": {
          "base_uri": "https://localhost:8080/"
        },
        "id": "6N6Cj2XRneCU",
        "outputId": "25aeb6f7-3637-4472-f326-d9b188b3efa1"
      },
      "execution_count": 121,
      "outputs": [
        {
          "output_type": "stream",
          "name": "stdout",
          "text": [
            "Accuracy: 1.0\n",
            "Precision: 1.0\n",
            "Recall: 1.0\n"
          ]
        }
      ]
    },
    {
      "cell_type": "code",
      "source": [
        "print(\"Accuracy: {}%\".format(clf.score(X_test, y_test) * 100))"
      ],
      "metadata": {
        "colab": {
          "base_uri": "https://localhost:8080/"
        },
        "id": "_qvupqeaCdFp",
        "outputId": "b0e769df-42be-4e02-fc18-c3492e42e10c"
      },
      "execution_count": 102,
      "outputs": [
        {
          "output_type": "stream",
          "name": "stdout",
          "text": [
            "Accuracy: 100.0%\n"
          ]
        }
      ]
    },
    {
      "cell_type": "code",
      "source": [
        "def make_meshgrid(x, y, h=.02):\n",
        "  x_min, x_max = x.min() - 1, x.max() + 1\n",
        "  y_min, y_max = y.min() - 1, y.max() + 1\n",
        "  xx, yy = np.meshgrid(np.arange(x_min, x_max, h), np.arange(y_min, y_max, h))\n",
        "  return xx, yy\n",
        "\n",
        "def plot_contours(ax, clf, xx, yy, **params):\n",
        "  Z = clf.predict(np.c_[xx.ravel(), yy.ravel()])\n",
        "  Z = Z.reshape(xx.shape)\n",
        "  out = ax.contourf(xx, yy, Z, **params)\n",
        "  return out\n",
        "\n",
        "fig, ax = plt.subplots()\n",
        "title = ('Decision surface of linear SVC ')\n",
        "X0, X1 = X[:, 0], X[:, 1]\n",
        "xx, yy = make_meshgrid(X0, X1)\n",
        "plot_contours(ax, clf, xx, yy, cmap=plt.cm.coolwarm, alpha=0.8)\n",
        "\n",
        "\n",
        "ax.scatter(X0, X1, c=y, cmap=plt.cm.coolwarm, s=20,edgecolors='k')\n",
        "ax.set_ylabel('y')\n",
        "ax.set_xlabel('x')\n",
        "ax.set_xticks(())\n",
        "ax.set_yticks(())\n",
        "ax.set_title(title)\n",
        "ax.legend()\n",
        "plt.show()"
      ],
      "metadata": {
        "colab": {
          "base_uri": "https://localhost:8080/",
          "height": 295
        },
        "id": "wmsap1TOEFff",
        "outputId": "40d5a545-b2ae-431a-f6e6-c4de8685c15c"
      },
      "execution_count": 103,
      "outputs": [
        {
          "output_type": "stream",
          "name": "stderr",
          "text": [
            "WARNING:matplotlib.legend:No artists with labels found to put in legend.  Note that artists whose label start with an underscore are ignored when legend() is called with no argument.\n"
          ]
        },
        {
          "output_type": "display_data",
          "data": {
            "text/plain": [
              "<Figure size 432x288 with 1 Axes>"
            ],
            "image/png": "[encoded data removed]"
          },
          "metadata": {}
        }
      ]
    },
    {
      "cell_type": "markdown",
      "source": [
        "**PART B**"
      ],
      "metadata": {
        "id": "5cf5WygGEA6H"
      }
    },
    {
      "cell_type": "code",
      "source": [
        "from sklearn import datasets\n",
        "cancer = datasets.load_breast_cancer()"
      ],
      "metadata": {
        "id": "sf7rFGqHEAS4"
      },
      "execution_count": 104,
      "outputs": []
    },
    {
      "cell_type": "code",
      "source": [
        "cancer.feature_names"
      ],
      "metadata": {
        "colab": {
          "base_uri": "https://localhost:8080/"
        },
        "id": "g_SR2S8oFuu4",
        "outputId": "86afa5ed-d67d-42ca-a0f7-4a8155efb6bd"
      },
      "execution_count": 105,
      "outputs": [
        {
          "output_type": "execute_result",
          "data": {
            "text/plain": [
              "array(['mean radius', 'mean texture', 'mean perimeter', 'mean area',\n",
              "       'mean smoothness', 'mean compactness', 'mean concavity',\n",
              "       'mean concave points', 'mean symmetry', 'mean fractal dimension',\n",
              "       'radius error', 'texture error', 'perimeter error', 'area error',\n",
              "       'smoothness error', 'compactness error', 'concavity error',\n",
              "       'concave points error', 'symmetry error',\n",
              "       'fractal dimension error', 'worst radius', 'worst texture',\n",
              "       'worst perimeter', 'worst area', 'worst smoothness',\n",
              "       'worst compactness', 'worst concavity', 'worst concave points',\n",
              "       'worst symmetry', 'worst fractal dimension'], dtype='<U23')"
            ]
          },
          "metadata": {},
          "execution_count": 105
        }
      ]
    },
    {
      "cell_type": "code",
      "source": [
        "cancer.target_names"
      ],
      "metadata": {
        "colab": {
          "base_uri": "https://localhost:8080/"
        },
        "id": "ZXQM8z29EiMI",
        "outputId": "d9c301a1-8c12-454d-e0c1-6bd9f7da6137"
      },
      "execution_count": 106,
      "outputs": [
        {
          "output_type": "execute_result",
          "data": {
            "text/plain": [
              "array(['malignant', 'benign'], dtype='<U9')"
            ]
          },
          "metadata": {},
          "execution_count": 106
        }
      ]
    },
    {
      "cell_type": "code",
      "source": [
        "data=cancer.data\n",
        "print(data.shape)\n",
        "print(data)"
      ],
      "metadata": {
        "colab": {
          "base_uri": "https://localhost:8080/"
        },
        "id": "zqAoE0IKF1-H",
        "outputId": "0ddd7f49-f704-42ff-ee60-272a2d166075"
      },
      "execution_count": 107,
      "outputs": [
        {
          "output_type": "stream",
          "name": "stdout",
          "text": [
            "(569, 30)\n",
            "[[1.799e+01 1.038e+01 1.228e+02 ... 2.654e-01 4.601e-01 1.189e-01]\n",
            " [2.057e+01 1.777e+01 1.329e+02 ... 1.860e-01 2.750e-01 8.902e-02]\n",
            " [1.969e+01 2.125e+01 1.300e+02 ... 2.430e-01 3.613e-01 8.758e-02]\n",
            " ...\n",
            " [1.660e+01 2.808e+01 1.083e+02 ... 1.418e-01 2.218e-01 7.820e-02]\n",
            " [2.060e+01 2.933e+01 1.401e+02 ... 2.650e-01 4.087e-01 1.240e-01]\n",
            " [7.760e+00 2.454e+01 4.792e+01 ... 0.000e+00 2.871e-01 7.039e-02]]\n"
          ]
        }
      ]
    },
    {
      "cell_type": "code",
      "source": [
        "target=cancer.target\n",
        "print(target)"
      ],
      "metadata": {
        "colab": {
          "base_uri": "https://localhost:8080/"
        },
        "id": "0meAEqrtF90f",
        "outputId": "4d422b1b-10da-49f6-b60c-a3c2561a5184"
      },
      "execution_count": 108,
      "outputs": [
        {
          "output_type": "stream",
          "name": "stdout",
          "text": [
            "[0 0 0 0 0 0 0 0 0 0 0 0 0 0 0 0 0 0 0 1 1 1 0 0 0 0 0 0 0 0 0 0 0 0 0 0 0\n",
            " 1 0 0 0 0 0 0 0 0 1 0 1 1 1 1 1 0 0 1 0 0 1 1 1 1 0 1 0 0 1 1 1 1 0 1 0 0\n",
            " 1 0 1 0 0 1 1 1 0 0 1 0 0 0 1 1 1 0 1 1 0 0 1 1 1 0 0 1 1 1 1 0 1 1 0 1 1\n",
            " 1 1 1 1 1 1 0 0 0 1 0 0 1 1 1 0 0 1 0 1 0 0 1 0 0 1 1 0 1 1 0 1 1 1 1 0 1\n",
            " 1 1 1 1 1 1 1 1 0 1 1 1 1 0 0 1 0 1 1 0 0 1 1 0 0 1 1 1 1 0 1 1 0 0 0 1 0\n",
            " 1 0 1 1 1 0 1 1 0 0 1 0 0 0 0 1 0 0 0 1 0 1 0 1 1 0 1 0 0 0 0 1 1 0 0 1 1\n",
            " 1 0 1 1 1 1 1 0 0 1 1 0 1 1 0 0 1 0 1 1 1 1 0 1 1 1 1 1 0 1 0 0 0 0 0 0 0\n",
            " 0 0 0 0 0 0 0 1 1 1 1 1 1 0 1 0 1 1 0 1 1 0 1 0 0 1 1 1 1 1 1 1 1 1 1 1 1\n",
            " 1 0 1 1 0 1 0 1 1 1 1 1 1 1 1 1 1 1 1 1 1 0 1 1 1 0 1 0 1 1 1 1 0 0 0 1 1\n",
            " 1 1 0 1 0 1 0 1 1 1 0 1 1 1 1 1 1 1 0 0 0 1 1 1 1 1 1 1 1 1 1 1 0 0 1 0 0\n",
            " 0 1 0 0 1 1 1 1 1 0 1 1 1 1 1 0 1 1 1 0 1 1 0 0 1 1 1 1 1 1 0 1 1 1 1 1 1\n",
            " 1 0 1 1 1 1 1 0 1 1 0 1 1 1 1 1 1 1 1 1 1 1 1 0 1 0 0 1 0 1 1 1 1 1 0 1 1\n",
            " 0 1 0 1 1 0 1 0 1 1 1 1 1 1 1 1 0 0 1 1 1 1 1 1 0 1 1 1 1 1 1 1 1 1 1 0 1\n",
            " 1 1 1 1 1 1 0 1 0 1 1 0 1 1 1 1 1 0 0 1 0 1 0 1 1 1 1 1 0 1 1 0 1 0 1 0 0\n",
            " 1 1 1 0 1 1 1 1 1 1 1 1 1 1 1 0 1 0 0 1 1 1 1 1 1 1 1 1 1 1 1 1 1 1 1 1 1\n",
            " 1 1 1 1 1 1 1 0 0 0 0 0 0 1]\n"
          ]
        }
      ]
    },
    {
      "cell_type": "code",
      "source": [
        "X_train1 , X_test1 , y_train1, y_test1 = train_test_split(data, target, random_state=98,test_size=0.2)\n",
        "clf1 = svm.SVC(C=0.4,kernel='linear')\n",
        "clf1.fit(X_train1,y_train1)"
      ],
      "metadata": {
        "colab": {
          "base_uri": "https://localhost:8080/",
          "height": 74
        },
        "id": "2R2IjEWjJfOl",
        "outputId": "4aa5f234-237e-49ba-9b82-e8d58cc58df6"
      },
      "execution_count": 109,
      "outputs": [
        {
          "output_type": "execute_result",
          "data": {
            "text/plain": [
              "SVC(C=0.4, kernel='linear')"
            ],
            "text/html": [
              "<style>#sk-container-id-17 {color: black;background-color: white;}#sk-container-id-17 pre{padding: 0;}#sk-container-id-17 div.sk-toggleable {background-color: white;}#sk-container-id-17 label.sk-toggleable__label {cursor: pointer;display: block;width: 100%;margin-bottom: 0;padding: 0.3em;box-sizing: border-box;text-align: center;}#sk-container-id-17 label.sk-toggleable__label-arrow:before {content: \"▸\";float: left;margin-right: 0.25em;color: #696969;}#sk-container-id-17 label.sk-toggleable__label-arrow:hover:before {color: black;}#sk-container-id-17 div.sk-estimator:hover label.sk-toggleable__label-arrow:before {color: black;}#sk-container-id-17 div.sk-toggleable__content {max-height: 0;max-width: 0;overflow: hidden;text-align: left;background-color: #f0f8ff;}#sk-container-id-17 div.sk-toggleable__content pre {margin: 0.2em;color: black;border-radius: 0.25em;background-color: #f0f8ff;}#sk-container-id-17 input.sk-toggleable__control:checked~div.sk-toggleable__content {max-height: 200px;max-width: 100%;overflow: auto;}#sk-container-id-17 input.sk-toggleable__control:checked~label.sk-toggleable__label-arrow:before {content: \"▾\";}#sk-container-id-17 div.sk-estimator input.sk-toggleable__control:checked~label.sk-toggleable__label {background-color: #d4ebff;}#sk-container-id-17 div.sk-label input.sk-toggleable__control:checked~label.sk-toggleable__label {background-color: #d4ebff;}#sk-container-id-17 input.sk-hidden--visually {border: 0;clip: rect(1px 1px 1px 1px);clip: rect(1px, 1px, 1px, 1px);height: 1px;margin: -1px;overflow: hidden;padding: 0;position: absolute;width: 1px;}#sk-container-id-17 div.sk-estimator {font-family: monospace;background-color: #f0f8ff;border: 1px dotted black;border-radius: 0.25em;box-sizing: border-box;margin-bottom: 0.5em;}#sk-container-id-17 div.sk-estimator:hover {background-color: #d4ebff;}#sk-container-id-17 div.sk-parallel-item::after {content: \"\";width: 100%;border-bottom: 1px solid gray;flex-grow: 1;}#sk-container-id-17 div.sk-label:hover label.sk-toggleable__label {background-color: #d4ebff;}#sk-container-id-17 div.sk-serial::before {content: \"\";position: absolute;border-left: 1px solid gray;box-sizing: border-box;top: 0;bottom: 0;left: 50%;z-index: 0;}#sk-container-id-17 div.sk-serial {display: flex;flex-direction: column;align-items: center;background-color: white;padding-right: 0.2em;padding-left: 0.2em;position: relative;}#sk-container-id-17 div.sk-item {position: relative;z-index: 1;}#sk-container-id-17 div.sk-parallel {display: flex;align-items: stretch;justify-content: center;background-color: white;position: relative;}#sk-container-id-17 div.sk-item::before, #sk-container-id-17 div.sk-parallel-item::before {content: \"\";position: absolute;border-left: 1px solid gray;box-sizing: border-box;top: 0;bottom: 0;left: 50%;z-index: -1;}#sk-container-id-17 div.sk-parallel-item {display: flex;flex-direction: column;z-index: 1;position: relative;background-color: white;}#sk-container-id-17 div.sk-parallel-item:first-child::after {align-self: flex-end;width: 50%;}#sk-container-id-17 div.sk-parallel-item:last-child::after {align-self: flex-start;width: 50%;}#sk-container-id-17 div.sk-parallel-item:only-child::after {width: 0;}#sk-container-id-17 div.sk-dashed-wrapped {border: 1px dashed gray;margin: 0 0.4em 0.5em 0.4em;box-sizing: border-box;padding-bottom: 0.4em;background-color: white;}#sk-container-id-17 div.sk-label label {font-family: monospace;font-weight: bold;display: inline-block;line-height: 1.2em;}#sk-container-id-17 div.sk-label-container {text-align: center;}#sk-container-id-17 div.sk-container {/* jupyter's `normalize.less` sets `[hidden] { display: none; }` but bootstrap.min.css set `[hidden] { display: none !important; }` so we also need the `!important` here to be able to override the default hidden behavior on the sphinx rendered scikit-learn.org. See: https://github.com/scikit-learn/scikit-learn/issues/21755 */display: inline-block !important;position: relative;}#sk-container-id-17 div.sk-text-repr-fallback {display: none;}</style><div id=\"sk-container-id-17\" class=\"sk-top-container\"><div class=\"sk-text-repr-fallback\"><pre>SVC(C=0.4, kernel=&#x27;linear&#x27;)</pre><b>In a Jupyter environment, please rerun this cell to show the HTML representation or trust the notebook. <br />On GitHub, the HTML representation is unable to render, please try loading this page with nbviewer.org.</b></div><div class=\"sk-container\" hidden><div class=\"sk-item\"><div class=\"sk-estimator sk-toggleable\"><input class=\"sk-toggleable__control sk-hidden--visually\" id=\"sk-estimator-id-17\" type=\"checkbox\" checked><label for=\"sk-estimator-id-17\" class=\"sk-toggleable__label sk-toggleable__label-arrow\">SVC</label><div class=\"sk-toggleable__content\"><pre>SVC(C=0.4, kernel=&#x27;linear&#x27;)</pre></div></div></div></div></div>"
            ]
          },
          "metadata": {},
          "execution_count": 109
        }
      ]
    },
    {
      "cell_type": "code",
      "source": [
        "y_pred1=clf1.predict(X_test1)\n",
        "y_pred1"
      ],
      "metadata": {
        "colab": {
          "base_uri": "https://localhost:8080/"
        },
        "id": "dg4NTo02HyMH",
        "outputId": "2d52a65e-e270-4720-d90a-8f15f7f08fed"
      },
      "execution_count": 110,
      "outputs": [
        {
          "output_type": "execute_result",
          "data": {
            "text/plain": [
              "array([1, 1, 0, 1, 1, 1, 1, 0, 1, 1, 0, 1, 1, 0, 0, 0, 1, 0, 1, 1, 0, 1,\n",
              "       1, 0, 1, 1, 1, 1, 1, 0, 1, 1, 0, 0, 1, 1, 0, 1, 1, 1, 0, 1, 0, 0,\n",
              "       0, 0, 1, 0, 0, 1, 0, 0, 1, 1, 0, 1, 1, 0, 1, 1, 1, 1, 0, 1, 1, 1,\n",
              "       1, 0, 1, 1, 0, 1, 1, 1, 1, 0, 1, 1, 1, 1, 1, 0, 0, 1, 1, 1, 0, 1,\n",
              "       1, 1, 1, 1, 0, 0, 0, 0, 0, 0, 1, 1, 1, 1, 1, 1, 1, 0, 1, 1, 0, 1,\n",
              "       0, 1, 1, 1])"
            ]
          },
          "metadata": {},
          "execution_count": 110
        }
      ]
    },
    {
      "cell_type": "code",
      "source": [
        "from sklearn import metrics\n",
        "print(\"Accuracy:\",metrics.accuracy_score(y_test1, y_pred1))\n",
        "print(\"Precision:\",metrics.precision_score(y_test1, y_pred1))\n",
        "print(\"Recall:\",metrics.recall_score(y_test1, y_pred1))"
      ],
      "metadata": {
        "colab": {
          "base_uri": "https://localhost:8080/"
        },
        "id": "6EL3LLfbJyHt",
        "outputId": "ad3f536f-16ee-4703-be3e-430b0dc98d87"
      },
      "execution_count": 111,
      "outputs": [
        {
          "output_type": "stream",
          "name": "stdout",
          "text": [
            "Accuracy: 0.9649122807017544\n",
            "Precision: 0.9594594594594594\n",
            "Recall: 0.9861111111111112\n"
          ]
        }
      ]
    },
    {
      "cell_type": "code",
      "source": [
        "X_train1 , X_test1 , y_train1, y_test1 = train_test_split(data, target, random_state=98,test_size=0.2)\n",
        "clf1 = svm.SVC(C=2,kernel='linear')\n",
        "clf1.fit(X_train1,y_train1)\n",
        "y_pred1=clf1.predict(X_test1)\n",
        "y_pred1\n",
        "from sklearn import metrics\n",
        "print(\"Accuracy:\",metrics.accuracy_score(y_test1, y_pred1))\n",
        "print(\"Precision:\",metrics.precision_score(y_test1, y_pred1))\n",
        "print(\"Recall:\",metrics.recall_score(y_test1, y_pred1))"
      ],
      "metadata": {
        "colab": {
          "base_uri": "https://localhost:8080/"
        },
        "id": "Js_derCamDQg",
        "outputId": "49246a1c-ba4c-49e7-d273-480cbadf9aa3"
      },
      "execution_count": 114,
      "outputs": [
        {
          "output_type": "stream",
          "name": "stdout",
          "text": [
            "Accuracy: 0.956140350877193\n",
            "Precision: 0.958904109589041\n",
            "Recall: 0.9722222222222222\n"
          ]
        }
      ]
    },
    {
      "cell_type": "code",
      "source": [
        "plt.scatter(data[:,0],data[:,1],c=target,cmap=\"spring\")\n",
        "plt.show()"
      ],
      "metadata": {
        "colab": {
          "base_uri": "https://localhost:8080/",
          "height": 265
        },
        "id": "ciX3PBnMOOuS",
        "outputId": "e01e8a57-6b76-4684-da87-b33037221089"
      },
      "execution_count": 113,
      "outputs": [
        {
          "output_type": "display_data",
          "data": {
            "text/plain": [
              "<Figure size 432x288 with 1 Axes>"
            ],
            "image/png": "[encoded data removed]"
          },
          "metadata": {
            "needs_background": "light"
          }
        }
      ]
    },
    {
      "cell_type": "code",
      "source": [
        "def make_meshgrid(x, y, h=.02):\n",
        "  x_min, x_max = x.min() - 1, x.max() + 1\n",
        "  y_min, y_max = y.min() - 1, y.max() + 1\n",
        "  xx, yy = np.meshgrid(np.arange(x_min, x_max, h), np.arange(y_min, y_max, h))\n",
        "  return xx, yy\n",
        "\n",
        "def plot_contours(ax, clf, xx, yy, **params):\n",
        "  Z = clf.predict(np.c_[xx.ravel(), yy.ravel()])\n",
        "  Z = Z.reshape(xx.shape)\n",
        "  out = ax.contourf(xx, yy, Z, **params)\n",
        "  return out\n",
        "\n",
        "fig, ax = plt.subplots()\n",
        "title = ('Decision surface of linear SVC ')\n",
        "X0, X1 = data[:, 0], data[:, 1]\n",
        "xx, yy = make_meshgrid(X0, X1)\n",
        "plot_contours(ax, clf, xx, yy, cmap=plt.cm.coolwarm, alpha=0.8)\n",
        "\n",
        "\n",
        "ax.scatter(X0, X1, c=target, cmap=plt.cm.coolwarm, s=20,edgecolors='k')\n",
        "ax.set_ylabel('y')\n",
        "ax.set_xlabel('x')\n",
        "ax.set_xticks(())\n",
        "ax.set_yticks(())\n",
        "ax.set_title(title)\n",
        "ax.legend()\n",
        "plt.show()"
      ],
      "metadata": {
        "colab": {
          "base_uri": "https://localhost:8080/",
          "height": 295
        },
        "id": "KSxdMPRoOBXq",
        "outputId": "00bfe6f3-92a6-4183-d2a7-068c7a66c24a"
      },
      "execution_count": 82,
      "outputs": [
        {
          "output_type": "stream",
          "name": "stderr",
          "text": [
            "WARNING:matplotlib.legend:No artists with labels found to put in legend.  Note that artists whose label start with an underscore are ignored when legend() is called with no argument.\n"
          ]
        },
        {
          "output_type": "display_data",
          "data": {
            "text/plain": [
              "<Figure size 432x288 with 1 Axes>"
            ],
            "image/png": "[encoded data removed]"
          },
          "metadata": {}
        }
      ]
    },
    {
      "cell_type": "markdown",
      "source": [
        "**Exercise**"
      ],
      "metadata": {
        "id": "NcZ-nCa6PWge"
      }
    },
    {
      "cell_type": "code",
      "source": [
        "data=datasets.load_digits()\n"
      ],
      "metadata": {
        "id": "MK-3Pr5lPZSW"
      },
      "execution_count": 83,
      "outputs": []
    },
    {
      "cell_type": "code",
      "source": [
        "ex_X=data.data\n",
        "ex_y=data.target\n",
        "print(ex_X.shape)"
      ],
      "metadata": {
        "colab": {
          "base_uri": "https://localhost:8080/"
        },
        "id": "WdMuVqlmPlIo",
        "outputId": "8306a816-1f9b-47bf-8762-3dd213ed1c0c"
      },
      "execution_count": 84,
      "outputs": [
        {
          "output_type": "stream",
          "name": "stdout",
          "text": [
            "(1797, 64)\n"
          ]
        }
      ]
    },
    {
      "cell_type": "code",
      "source": [
        "print(ex_X)\n",
        "print(ex_y)"
      ],
      "metadata": {
        "colab": {
          "base_uri": "https://localhost:8080/"
        },
        "id": "Tj_HLulZPuKY",
        "outputId": "2ced42b2-5341-4456-fa4c-90c72fb1a8df"
      },
      "execution_count": 85,
      "outputs": [
        {
          "output_type": "stream",
          "name": "stdout",
          "text": [
            "[[ 0.  0.  5. ...  0.  0.  0.]\n",
            " [ 0.  0.  0. ... 10.  0.  0.]\n",
            " [ 0.  0.  0. ... 16.  9.  0.]\n",
            " ...\n",
            " [ 0.  0.  1. ...  6.  0.  0.]\n",
            " [ 0.  0.  2. ... 12.  0.  0.]\n",
            " [ 0.  0. 10. ... 12.  1.  0.]]\n",
            "[0 1 2 ... 8 9 8]\n"
          ]
        }
      ]
    },
    {
      "cell_type": "code",
      "source": [
        "X_train2 , X_test2 , y_train2, y_test2 = train_test_split(ex_X, ex_y, random_state=98,test_size=0.2)\n",
        "ex_clf1 = svm.SVC(C=0.4,kernel='linear')\n",
        "ex_clf1.fit(X_train2,y_train2)"
      ],
      "metadata": {
        "colab": {
          "base_uri": "https://localhost:8080/",
          "height": 74
        },
        "id": "5BoBGHg8P0Uo",
        "outputId": "ad482bd8-fa1b-46d7-cfc3-f2c91631c150"
      },
      "execution_count": 86,
      "outputs": [
        {
          "output_type": "execute_result",
          "data": {
            "text/plain": [
              "SVC(C=0.4, kernel='linear')"
            ],
            "text/html": [
              "<style>#sk-container-id-13 {color: black;background-color: white;}#sk-container-id-13 pre{padding: 0;}#sk-container-id-13 div.sk-toggleable {background-color: white;}#sk-container-id-13 label.sk-toggleable__label {cursor: pointer;display: block;width: 100%;margin-bottom: 0;padding: 0.3em;box-sizing: border-box;text-align: center;}#sk-container-id-13 label.sk-toggleable__label-arrow:before {content: \"▸\";float: left;margin-right: 0.25em;color: #696969;}#sk-container-id-13 label.sk-toggleable__label-arrow:hover:before {color: black;}#sk-container-id-13 div.sk-estimator:hover label.sk-toggleable__label-arrow:before {color: black;}#sk-container-id-13 div.sk-toggleable__content {max-height: 0;max-width: 0;overflow: hidden;text-align: left;background-color: #f0f8ff;}#sk-container-id-13 div.sk-toggleable__content pre {margin: 0.2em;color: black;border-radius: 0.25em;background-color: #f0f8ff;}#sk-container-id-13 input.sk-toggleable__control:checked~div.sk-toggleable__content {max-height: 200px;max-width: 100%;overflow: auto;}#sk-container-id-13 input.sk-toggleable__control:checked~label.sk-toggleable__label-arrow:before {content: \"▾\";}#sk-container-id-13 div.sk-estimator input.sk-toggleable__control:checked~label.sk-toggleable__label {background-color: #d4ebff;}#sk-container-id-13 div.sk-label input.sk-toggleable__control:checked~label.sk-toggleable__label {background-color: #d4ebff;}#sk-container-id-13 input.sk-hidden--visually {border: 0;clip: rect(1px 1px 1px 1px);clip: rect(1px, 1px, 1px, 1px);height: 1px;margin: -1px;overflow: hidden;padding: 0;position: absolute;width: 1px;}#sk-container-id-13 div.sk-estimator {font-family: monospace;background-color: #f0f8ff;border: 1px dotted black;border-radius: 0.25em;box-sizing: border-box;margin-bottom: 0.5em;}#sk-container-id-13 div.sk-estimator:hover {background-color: #d4ebff;}#sk-container-id-13 div.sk-parallel-item::after {content: \"\";width: 100%;border-bottom: 1px solid gray;flex-grow: 1;}#sk-container-id-13 div.sk-label:hover label.sk-toggleable__label {background-color: #d4ebff;}#sk-container-id-13 div.sk-serial::before {content: \"\";position: absolute;border-left: 1px solid gray;box-sizing: border-box;top: 0;bottom: 0;left: 50%;z-index: 0;}#sk-container-id-13 div.sk-serial {display: flex;flex-direction: column;align-items: center;background-color: white;padding-right: 0.2em;padding-left: 0.2em;position: relative;}#sk-container-id-13 div.sk-item {position: relative;z-index: 1;}#sk-container-id-13 div.sk-parallel {display: flex;align-items: stretch;justify-content: center;background-color: white;position: relative;}#sk-container-id-13 div.sk-item::before, #sk-container-id-13 div.sk-parallel-item::before {content: \"\";position: absolute;border-left: 1px solid gray;box-sizing: border-box;top: 0;bottom: 0;left: 50%;z-index: -1;}#sk-container-id-13 div.sk-parallel-item {display: flex;flex-direction: column;z-index: 1;position: relative;background-color: white;}#sk-container-id-13 div.sk-parallel-item:first-child::after {align-self: flex-end;width: 50%;}#sk-container-id-13 div.sk-parallel-item:last-child::after {align-self: flex-start;width: 50%;}#sk-container-id-13 div.sk-parallel-item:only-child::after {width: 0;}#sk-container-id-13 div.sk-dashed-wrapped {border: 1px dashed gray;margin: 0 0.4em 0.5em 0.4em;box-sizing: border-box;padding-bottom: 0.4em;background-color: white;}#sk-container-id-13 div.sk-label label {font-family: monospace;font-weight: bold;display: inline-block;line-height: 1.2em;}#sk-container-id-13 div.sk-label-container {text-align: center;}#sk-container-id-13 div.sk-container {/* jupyter's `normalize.less` sets `[hidden] { display: none; }` but bootstrap.min.css set `[hidden] { display: none !important; }` so we also need the `!important` here to be able to override the default hidden behavior on the sphinx rendered scikit-learn.org. See: https://github.com/scikit-learn/scikit-learn/issues/21755 */display: inline-block !important;position: relative;}#sk-container-id-13 div.sk-text-repr-fallback {display: none;}</style><div id=\"sk-container-id-13\" class=\"sk-top-container\"><div class=\"sk-text-repr-fallback\"><pre>SVC(C=0.4, kernel=&#x27;linear&#x27;)</pre><b>In a Jupyter environment, please rerun this cell to show the HTML representation or trust the notebook. <br />On GitHub, the HTML representation is unable to render, please try loading this page with nbviewer.org.</b></div><div class=\"sk-container\" hidden><div class=\"sk-item\"><div class=\"sk-estimator sk-toggleable\"><input class=\"sk-toggleable__control sk-hidden--visually\" id=\"sk-estimator-id-13\" type=\"checkbox\" checked><label for=\"sk-estimator-id-13\" class=\"sk-toggleable__label sk-toggleable__label-arrow\">SVC</label><div class=\"sk-toggleable__content\"><pre>SVC(C=0.4, kernel=&#x27;linear&#x27;)</pre></div></div></div></div></div>"
            ]
          },
          "metadata": {},
          "execution_count": 86
        }
      ]
    },
    {
      "cell_type": "code",
      "source": [
        "ex_pred1=ex_clf1.predict(X_test2)\n",
        "print(ex_pred1)"
      ],
      "metadata": {
        "colab": {
          "base_uri": "https://localhost:8080/"
        },
        "id": "wL1czKl5QWcZ",
        "outputId": "e501bee0-f596-4939-ef8c-f459a4712058"
      },
      "execution_count": 87,
      "outputs": [
        {
          "output_type": "stream",
          "name": "stdout",
          "text": [
            "[1 6 3 7 0 2 1 4 1 7 1 2 4 7 1 3 7 5 4 7 6 9 9 4 9 5 9 2 3 6 7 9 4 9 0 2 8\n",
            " 7 0 3 9 1 4 5 2 3 0 8 1 5 7 5 3 6 3 9 7 4 0 1 4 4 6 0 9 9 3 5 0 4 2 5 4 7\n",
            " 5 6 8 6 2 5 4 6 4 9 5 2 1 6 9 7 5 8 3 4 2 7 3 4 7 2 9 8 0 0 5 7 0 5 0 6 7\n",
            " 7 5 3 0 0 0 4 3 7 7 9 4 8 5 8 1 8 0 7 7 2 9 5 8 1 5 2 3 7 5 4 1 0 2 6 0 4\n",
            " 8 8 2 3 9 3 0 7 2 5 2 9 8 8 6 4 7 1 3 4 6 6 5 3 0 7 2 4 6 4 7 2 3 3 7 4 9\n",
            " 0 9 2 8 9 0 9 2 0 3 5 4 0 6 6 3 7 7 8 3 0 4 2 7 7 1 6 1 4 7 7 8 0 8 5 1 9\n",
            " 2 4 1 6 1 2 2 4 2 9 0 7 3 4 7 0 3 7 8 0 8 9 3 3 0 6 8 6 2 3 3 6 5 5 6 1 5\n",
            " 5 6 7 9 3 3 9 9 3 6 2 6 3 2 7 2 8 5 5 4 4 8 8 9 0 2 8 5 9 1 8 0 7 7 1 4 1\n",
            " 7 6 2 0 4 1 8 6 5 0 2 9 3 3 2 7 7 2 2 2 0 4 5 9 4 3 4 8 2 4 3 3 7 8 1 6 5\n",
            " 6 9 8 6 2 1 5 8 7 0 8 3 8 0 6 8 8 8 5 4 9 6 9 5 9 8 1]\n"
          ]
        }
      ]
    },
    {
      "cell_type": "code",
      "source": [
        "from sklearn import metrics\n",
        "print(\"Metrics measure for linear kernal:\")\n",
        "print(\"Accuracy for linear kernal:\",metrics.accuracy_score(y_test2, ex_pred1))"
      ],
      "metadata": {
        "colab": {
          "base_uri": "https://localhost:8080/"
        },
        "id": "PktP7pw-QjwX",
        "outputId": "58343159-135a-4817-8166-19911b956e76"
      },
      "execution_count": 88,
      "outputs": [
        {
          "output_type": "stream",
          "name": "stdout",
          "text": [
            "Metrics measure for linear kernal:\n",
            "Accuracy for linear kernal: 0.9833333333333333\n"
          ]
        }
      ]
    },
    {
      "cell_type": "code",
      "source": [
        "ex_clf2 = svm.SVC(C=0.4,kernel='poly')\n",
        "ex_clf2.fit(X_train2,y_train2)"
      ],
      "metadata": {
        "colab": {
          "base_uri": "https://localhost:8080/",
          "height": 74
        },
        "id": "gdho5xVYRJ8Q",
        "outputId": "bc18ba26-cb24-404f-9bcb-75a2e202badf"
      },
      "execution_count": 89,
      "outputs": [
        {
          "output_type": "execute_result",
          "data": {
            "text/plain": [
              "SVC(C=0.4, kernel='poly')"
            ],
            "text/html": [
              "<style>#sk-container-id-14 {color: black;background-color: white;}#sk-container-id-14 pre{padding: 0;}#sk-container-id-14 div.sk-toggleable {background-color: white;}#sk-container-id-14 label.sk-toggleable__label {cursor: pointer;display: block;width: 100%;margin-bottom: 0;padding: 0.3em;box-sizing: border-box;text-align: center;}#sk-container-id-14 label.sk-toggleable__label-arrow:before {content: \"▸\";float: left;margin-right: 0.25em;color: #696969;}#sk-container-id-14 label.sk-toggleable__label-arrow:hover:before {color: black;}#sk-container-id-14 div.sk-estimator:hover label.sk-toggleable__label-arrow:before {color: black;}#sk-container-id-14 div.sk-toggleable__content {max-height: 0;max-width: 0;overflow: hidden;text-align: left;background-color: #f0f8ff;}#sk-container-id-14 div.sk-toggleable__content pre {margin: 0.2em;color: black;border-radius: 0.25em;background-color: #f0f8ff;}#sk-container-id-14 input.sk-toggleable__control:checked~div.sk-toggleable__content {max-height: 200px;max-width: 100%;overflow: auto;}#sk-container-id-14 input.sk-toggleable__control:checked~label.sk-toggleable__label-arrow:before {content: \"▾\";}#sk-container-id-14 div.sk-estimator input.sk-toggleable__control:checked~label.sk-toggleable__label {background-color: #d4ebff;}#sk-container-id-14 div.sk-label input.sk-toggleable__control:checked~label.sk-toggleable__label {background-color: #d4ebff;}#sk-container-id-14 input.sk-hidden--visually {border: 0;clip: rect(1px 1px 1px 1px);clip: rect(1px, 1px, 1px, 1px);height: 1px;margin: -1px;overflow: hidden;padding: 0;position: absolute;width: 1px;}#sk-container-id-14 div.sk-estimator {font-family: monospace;background-color: #f0f8ff;border: 1px dotted black;border-radius: 0.25em;box-sizing: border-box;margin-bottom: 0.5em;}#sk-container-id-14 div.sk-estimator:hover {background-color: #d4ebff;}#sk-container-id-14 div.sk-parallel-item::after {content: \"\";width: 100%;border-bottom: 1px solid gray;flex-grow: 1;}#sk-container-id-14 div.sk-label:hover label.sk-toggleable__label {background-color: #d4ebff;}#sk-container-id-14 div.sk-serial::before {content: \"\";position: absolute;border-left: 1px solid gray;box-sizing: border-box;top: 0;bottom: 0;left: 50%;z-index: 0;}#sk-container-id-14 div.sk-serial {display: flex;flex-direction: column;align-items: center;background-color: white;padding-right: 0.2em;padding-left: 0.2em;position: relative;}#sk-container-id-14 div.sk-item {position: relative;z-index: 1;}#sk-container-id-14 div.sk-parallel {display: flex;align-items: stretch;justify-content: center;background-color: white;position: relative;}#sk-container-id-14 div.sk-item::before, #sk-container-id-14 div.sk-parallel-item::before {content: \"\";position: absolute;border-left: 1px solid gray;box-sizing: border-box;top: 0;bottom: 0;left: 50%;z-index: -1;}#sk-container-id-14 div.sk-parallel-item {display: flex;flex-direction: column;z-index: 1;position: relative;background-color: white;}#sk-container-id-14 div.sk-parallel-item:first-child::after {align-self: flex-end;width: 50%;}#sk-container-id-14 div.sk-parallel-item:last-child::after {align-self: flex-start;width: 50%;}#sk-container-id-14 div.sk-parallel-item:only-child::after {width: 0;}#sk-container-id-14 div.sk-dashed-wrapped {border: 1px dashed gray;margin: 0 0.4em 0.5em 0.4em;box-sizing: border-box;padding-bottom: 0.4em;background-color: white;}#sk-container-id-14 div.sk-label label {font-family: monospace;font-weight: bold;display: inline-block;line-height: 1.2em;}#sk-container-id-14 div.sk-label-container {text-align: center;}#sk-container-id-14 div.sk-container {/* jupyter's `normalize.less` sets `[hidden] { display: none; }` but bootstrap.min.css set `[hidden] { display: none !important; }` so we also need the `!important` here to be able to override the default hidden behavior on the sphinx rendered scikit-learn.org. See: https://github.com/scikit-learn/scikit-learn/issues/21755 */display: inline-block !important;position: relative;}#sk-container-id-14 div.sk-text-repr-fallback {display: none;}</style><div id=\"sk-container-id-14\" class=\"sk-top-container\"><div class=\"sk-text-repr-fallback\"><pre>SVC(C=0.4, kernel=&#x27;poly&#x27;)</pre><b>In a Jupyter environment, please rerun this cell to show the HTML representation or trust the notebook. <br />On GitHub, the HTML representation is unable to render, please try loading this page with nbviewer.org.</b></div><div class=\"sk-container\" hidden><div class=\"sk-item\"><div class=\"sk-estimator sk-toggleable\"><input class=\"sk-toggleable__control sk-hidden--visually\" id=\"sk-estimator-id-14\" type=\"checkbox\" checked><label for=\"sk-estimator-id-14\" class=\"sk-toggleable__label sk-toggleable__label-arrow\">SVC</label><div class=\"sk-toggleable__content\"><pre>SVC(C=0.4, kernel=&#x27;poly&#x27;)</pre></div></div></div></div></div>"
            ]
          },
          "metadata": {},
          "execution_count": 89
        }
      ]
    },
    {
      "cell_type": "code",
      "source": [
        "ex_pred2=ex_clf2.predict(X_test2)\n",
        "print(ex_pred2)"
      ],
      "metadata": {
        "colab": {
          "base_uri": "https://localhost:8080/"
        },
        "id": "_aIi29EsRVz4",
        "outputId": "9422f8d3-aa33-420d-f7dc-52dd35543513"
      },
      "execution_count": 90,
      "outputs": [
        {
          "output_type": "stream",
          "name": "stdout",
          "text": [
            "[1 6 3 7 0 2 1 4 1 7 1 2 4 7 1 3 7 5 4 7 6 9 9 4 9 5 9 2 3 6 7 9 4 5 0 2 8\n",
            " 7 0 3 9 1 4 5 2 3 0 8 1 5 7 5 3 6 3 9 7 4 0 1 4 4 6 0 9 9 3 5 0 4 2 5 4 7\n",
            " 5 6 8 6 2 5 4 6 4 9 5 2 1 6 9 7 5 8 3 4 2 7 3 4 7 2 9 8 0 0 5 7 0 5 0 6 7\n",
            " 7 5 3 0 0 0 4 3 7 7 9 4 8 5 8 1 8 0 7 7 2 9 5 8 1 5 2 3 7 5 4 1 0 2 6 0 4\n",
            " 8 8 2 3 9 3 0 7 2 5 2 9 8 8 6 4 7 1 3 4 6 6 5 3 0 7 2 4 6 4 7 2 3 3 7 4 9\n",
            " 0 9 2 8 9 0 9 2 0 3 5 4 0 6 6 3 7 7 8 3 0 4 2 8 7 1 6 1 4 7 7 8 0 8 5 8 9\n",
            " 2 4 1 6 1 2 2 4 2 9 0 7 3 4 7 0 3 7 8 0 1 9 3 3 0 6 9 6 2 3 3 6 5 5 6 1 5\n",
            " 5 6 7 9 3 3 9 9 3 6 2 6 3 2 7 2 8 5 5 4 9 8 8 9 0 2 8 5 9 1 8 0 7 7 1 4 1\n",
            " 7 6 2 0 4 1 8 6 5 0 2 9 9 3 2 7 7 2 2 2 0 4 5 9 4 3 4 8 2 4 3 3 7 8 1 6 5\n",
            " 6 9 8 6 2 1 5 8 7 0 8 3 8 0 6 8 8 8 5 4 9 6 9 5 9 8 1]\n"
          ]
        }
      ]
    },
    {
      "cell_type": "code",
      "source": [
        "from sklearn import metrics\n",
        "print(\"Metrics measure for polynomial kernal:\")\n",
        "print(\"Accuracy for polynomial kernal:\",metrics.accuracy_score(y_test2, ex_pred2))"
      ],
      "metadata": {
        "colab": {
          "base_uri": "https://localhost:8080/"
        },
        "id": "DpiNre_DRcGQ",
        "outputId": "e4472c6d-ca59-41e1-9d59-7e58d2b665d0"
      },
      "execution_count": 118,
      "outputs": [
        {
          "output_type": "stream",
          "name": "stdout",
          "text": [
            "Metrics measure for polynomial kernal:\n",
            "Accuracy for polynomial kernal: 0.9972222222222222\n"
          ]
        }
      ]
    },
    {
      "cell_type": "code",
      "source": [
        "ex_clf2 = svm.SVC(C=2,kernel='poly')\n",
        "ex_clf2.fit(X_train2,y_train2)\n",
        "ex_pred2=ex_clf2.predict(X_test2)\n",
        "print(ex_pred2)\n",
        "from sklearn import metrics\n",
        "print(\"Metrics measure for polynomial kernal:\")\n",
        "print(\"Accuracy for polynomial kernal:\",metrics.accuracy_score(y_test2, ex_pred2))"
      ],
      "metadata": {
        "colab": {
          "base_uri": "https://localhost:8080/"
        },
        "id": "jfmESCn5nKsW",
        "outputId": "fcb946fe-4371-43f0-a3d3-b9d303db9731"
      },
      "execution_count": 119,
      "outputs": [
        {
          "output_type": "stream",
          "name": "stdout",
          "text": [
            "[1 6 3 7 0 2 1 4 1 7 1 2 4 7 1 3 7 5 4 7 6 9 9 4 9 5 9 2 3 6 7 9 4 9 0 2 8\n",
            " 7 0 3 9 1 4 5 2 3 0 8 1 5 7 5 3 6 3 9 7 4 0 1 4 4 6 0 9 9 3 5 0 4 2 5 4 7\n",
            " 5 6 8 6 2 5 4 6 4 9 5 2 1 6 9 7 5 8 3 4 2 7 3 4 7 2 9 8 0 0 5 7 0 5 0 6 7\n",
            " 7 5 3 0 0 0 4 3 7 7 9 4 8 5 8 1 8 0 7 7 2 9 5 8 1 5 2 3 7 5 4 1 0 2 6 0 4\n",
            " 8 8 2 3 9 3 0 7 2 5 2 9 8 8 6 4 7 1 3 4 6 6 5 3 0 7 2 4 6 4 7 2 3 3 7 4 9\n",
            " 0 9 2 8 9 0 9 2 0 3 5 4 0 6 6 3 7 7 8 3 0 4 2 9 7 1 6 1 4 7 7 8 0 8 5 8 9\n",
            " 2 4 1 6 1 2 2 4 2 9 0 7 3 4 7 0 3 7 8 0 1 9 3 3 0 6 8 6 2 3 3 6 5 5 6 1 5\n",
            " 5 6 7 9 3 3 9 9 3 6 2 6 3 2 7 2 8 5 5 4 9 8 8 9 0 2 8 5 9 1 8 0 7 7 1 4 1\n",
            " 7 6 2 0 4 1 8 6 5 0 2 9 9 3 2 7 7 2 2 2 0 4 5 9 4 3 4 8 2 4 3 3 7 8 1 6 5\n",
            " 6 9 8 6 2 1 5 8 7 0 8 3 8 0 6 8 8 8 5 4 9 6 9 5 9 8 1]\n",
            "Metrics measure for polynomial kernal:\n",
            "Accuracy for polynomial kernal: 0.9944444444444445\n"
          ]
        }
      ]
    },
    {
      "cell_type": "code",
      "source": [
        "ex_clf2 = svm.SVC(C=2,kernel='rbf')\n",
        "ex_clf2.fit(X_train2,y_train2)\n",
        "ex_pred2=ex_clf2.predict(X_test2)\n",
        "print(ex_pred2)\n",
        "from sklearn import metrics\n",
        "print(\"Metrics measure for polynomial kernal:\")\n",
        "print(\"Accuracy for polynomial kernal:\",metrics.accuracy_score(y_test2, ex_pred2))"
      ],
      "metadata": {
        "colab": {
          "base_uri": "https://localhost:8080/"
        },
        "id": "_hmr4r1Gnvu2",
        "outputId": "f1624425-6f53-4b89-cd84-de466ee14a4a"
      },
      "execution_count": 122,
      "outputs": [
        {
          "output_type": "stream",
          "name": "stdout",
          "text": [
            "[1 6 3 7 0 2 1 4 1 7 1 2 4 7 1 3 7 5 4 7 6 9 9 4 9 5 9 2 3 6 7 9 4 5 0 2 8\n",
            " 7 0 3 9 1 4 5 2 3 0 8 1 5 7 5 3 6 3 9 7 4 0 1 4 4 6 0 9 9 3 5 0 4 2 5 4 7\n",
            " 5 6 8 6 2 5 4 6 4 9 5 2 1 6 9 7 5 8 3 4 2 7 3 4 7 2 9 8 0 0 5 7 0 5 0 6 7\n",
            " 7 5 3 0 0 0 4 3 7 7 9 4 8 5 8 1 8 0 7 7 2 9 5 8 1 5 2 3 7 5 4 1 0 2 6 0 4\n",
            " 8 8 2 3 9 3 0 7 2 5 2 9 8 8 6 4 7 1 3 4 6 6 5 3 0 7 2 4 6 4 7 2 3 3 7 4 9\n",
            " 0 9 2 8 9 0 9 2 0 3 5 4 0 6 6 3 7 7 8 3 0 4 2 8 7 1 6 1 4 7 7 8 0 8 5 8 9\n",
            " 2 4 1 6 1 2 2 4 2 9 0 7 3 4 7 0 3 7 8 0 1 9 3 3 0 6 8 6 2 3 3 6 5 5 6 1 5\n",
            " 5 6 7 9 3 3 9 9 3 6 2 6 3 2 7 2 8 5 5 4 9 8 8 9 0 2 8 5 9 1 8 0 7 7 1 4 1\n",
            " 7 6 2 0 4 1 8 6 5 0 2 9 9 3 2 7 7 2 2 2 0 4 5 9 4 3 4 8 2 4 3 3 7 8 1 6 5\n",
            " 6 9 8 6 2 1 5 8 7 0 8 3 8 0 6 8 8 8 5 4 9 6 9 5 9 8 1]\n",
            "Metrics measure for polynomial kernal:\n",
            "Accuracy for polynomial kernal: 1.0\n"
          ]
        }
      ]
    },
    {
      "cell_type": "code",
      "source": [
        "ex_clf3 = svm.SVC(C=0.4,kernel='rbf')\n",
        "ex_clf3.fit(X_train2,y_train2)"
      ],
      "metadata": {
        "colab": {
          "base_uri": "https://localhost:8080/",
          "height": 74
        },
        "id": "w-am6W9sRkV1",
        "outputId": "b636e224-888d-4855-fd7e-c42a50deffa2"
      },
      "execution_count": 92,
      "outputs": [
        {
          "output_type": "execute_result",
          "data": {
            "text/plain": [
              "SVC(C=0.4)"
            ],
            "text/html": [
              "<style>#sk-container-id-15 {color: black;background-color: white;}#sk-container-id-15 pre{padding: 0;}#sk-container-id-15 div.sk-toggleable {background-color: white;}#sk-container-id-15 label.sk-toggleable__label {cursor: pointer;display: block;width: 100%;margin-bottom: 0;padding: 0.3em;box-sizing: border-box;text-align: center;}#sk-container-id-15 label.sk-toggleable__label-arrow:before {content: \"▸\";float: left;margin-right: 0.25em;color: #696969;}#sk-container-id-15 label.sk-toggleable__label-arrow:hover:before {color: black;}#sk-container-id-15 div.sk-estimator:hover label.sk-toggleable__label-arrow:before {color: black;}#sk-container-id-15 div.sk-toggleable__content {max-height: 0;max-width: 0;overflow: hidden;text-align: left;background-color: #f0f8ff;}#sk-container-id-15 div.sk-toggleable__content pre {margin: 0.2em;color: black;border-radius: 0.25em;background-color: #f0f8ff;}#sk-container-id-15 input.sk-toggleable__control:checked~div.sk-toggleable__content {max-height: 200px;max-width: 100%;overflow: auto;}#sk-container-id-15 input.sk-toggleable__control:checked~label.sk-toggleable__label-arrow:before {content: \"▾\";}#sk-container-id-15 div.sk-estimator input.sk-toggleable__control:checked~label.sk-toggleable__label {background-color: #d4ebff;}#sk-container-id-15 div.sk-label input.sk-toggleable__control:checked~label.sk-toggleable__label {background-color: #d4ebff;}#sk-container-id-15 input.sk-hidden--visually {border: 0;clip: rect(1px 1px 1px 1px);clip: rect(1px, 1px, 1px, 1px);height: 1px;margin: -1px;overflow: hidden;padding: 0;position: absolute;width: 1px;}#sk-container-id-15 div.sk-estimator {font-family: monospace;background-color: #f0f8ff;border: 1px dotted black;border-radius: 0.25em;box-sizing: border-box;margin-bottom: 0.5em;}#sk-container-id-15 div.sk-estimator:hover {background-color: #d4ebff;}#sk-container-id-15 div.sk-parallel-item::after {content: \"\";width: 100%;border-bottom: 1px solid gray;flex-grow: 1;}#sk-container-id-15 div.sk-label:hover label.sk-toggleable__label {background-color: #d4ebff;}#sk-container-id-15 div.sk-serial::before {content: \"\";position: absolute;border-left: 1px solid gray;box-sizing: border-box;top: 0;bottom: 0;left: 50%;z-index: 0;}#sk-container-id-15 div.sk-serial {display: flex;flex-direction: column;align-items: center;background-color: white;padding-right: 0.2em;padding-left: 0.2em;position: relative;}#sk-container-id-15 div.sk-item {position: relative;z-index: 1;}#sk-container-id-15 div.sk-parallel {display: flex;align-items: stretch;justify-content: center;background-color: white;position: relative;}#sk-container-id-15 div.sk-item::before, #sk-container-id-15 div.sk-parallel-item::before {content: \"\";position: absolute;border-left: 1px solid gray;box-sizing: border-box;top: 0;bottom: 0;left: 50%;z-index: -1;}#sk-container-id-15 div.sk-parallel-item {display: flex;flex-direction: column;z-index: 1;position: relative;background-color: white;}#sk-container-id-15 div.sk-parallel-item:first-child::after {align-self: flex-end;width: 50%;}#sk-container-id-15 div.sk-parallel-item:last-child::after {align-self: flex-start;width: 50%;}#sk-container-id-15 div.sk-parallel-item:only-child::after {width: 0;}#sk-container-id-15 div.sk-dashed-wrapped {border: 1px dashed gray;margin: 0 0.4em 0.5em 0.4em;box-sizing: border-box;padding-bottom: 0.4em;background-color: white;}#sk-container-id-15 div.sk-label label {font-family: monospace;font-weight: bold;display: inline-block;line-height: 1.2em;}#sk-container-id-15 div.sk-label-container {text-align: center;}#sk-container-id-15 div.sk-container {/* jupyter's `normalize.less` sets `[hidden] { display: none; }` but bootstrap.min.css set `[hidden] { display: none !important; }` so we also need the `!important` here to be able to override the default hidden behavior on the sphinx rendered scikit-learn.org. See: https://github.com/scikit-learn/scikit-learn/issues/21755 */display: inline-block !important;position: relative;}#sk-container-id-15 div.sk-text-repr-fallback {display: none;}</style><div id=\"sk-container-id-15\" class=\"sk-top-container\"><div class=\"sk-text-repr-fallback\"><pre>SVC(C=0.4)</pre><b>In a Jupyter environment, please rerun this cell to show the HTML representation or trust the notebook. <br />On GitHub, the HTML representation is unable to render, please try loading this page with nbviewer.org.</b></div><div class=\"sk-container\" hidden><div class=\"sk-item\"><div class=\"sk-estimator sk-toggleable\"><input class=\"sk-toggleable__control sk-hidden--visually\" id=\"sk-estimator-id-15\" type=\"checkbox\" checked><label for=\"sk-estimator-id-15\" class=\"sk-toggleable__label sk-toggleable__label-arrow\">SVC</label><div class=\"sk-toggleable__content\"><pre>SVC(C=0.4)</pre></div></div></div></div></div>"
            ]
          },
          "metadata": {},
          "execution_count": 92
        }
      ]
    },
    {
      "cell_type": "code",
      "source": [
        "ex_pred3=ex_clf3.predict(X_test2)\n",
        "print(ex_pred3)"
      ],
      "metadata": {
        "colab": {
          "base_uri": "https://localhost:8080/"
        },
        "id": "0pDOisNiRrVd",
        "outputId": "1d3f24d9-5c44-4dd4-f799-d8df18123c98"
      },
      "execution_count": 93,
      "outputs": [
        {
          "output_type": "stream",
          "name": "stdout",
          "text": [
            "[1 6 3 7 0 2 1 4 1 7 1 2 4 7 1 3 7 5 4 7 6 9 9 4 9 5 9 2 3 6 7 9 4 5 0 2 8\n",
            " 7 0 3 9 1 4 5 2 3 0 8 1 5 7 5 3 6 7 9 7 4 0 1 4 4 6 0 9 9 3 5 0 4 2 5 4 7\n",
            " 5 6 8 6 2 5 4 6 4 9 5 2 1 6 9 7 5 8 3 4 2 7 3 4 7 2 9 8 0 0 5 7 0 5 0 6 7\n",
            " 7 5 3 0 0 0 4 3 7 7 9 4 8 5 8 1 8 0 7 7 2 9 5 8 1 5 2 3 7 5 4 1 0 2 6 0 4\n",
            " 8 8 2 3 9 3 0 7 2 5 2 9 8 8 6 4 7 1 3 4 6 6 5 3 0 7 2 4 6 4 7 2 3 3 7 4 9\n",
            " 0 9 2 8 9 0 9 2 0 3 5 4 0 6 6 3 7 7 8 3 0 4 2 8 7 1 6 1 4 7 7 8 0 8 5 8 9\n",
            " 2 4 1 6 1 2 2 4 2 9 0 7 3 4 7 0 3 7 1 0 1 9 3 3 0 6 8 6 2 3 3 6 5 5 6 1 5\n",
            " 5 6 7 9 3 3 9 9 3 6 2 6 3 2 7 2 8 5 5 4 9 8 8 9 0 2 8 5 9 1 8 0 7 7 1 4 1\n",
            " 7 6 2 0 4 1 8 6 5 0 2 9 9 3 2 7 7 2 2 2 0 4 5 9 4 3 4 8 2 4 3 3 7 8 1 6 5\n",
            " 6 9 8 6 2 1 5 8 7 0 8 3 8 0 6 8 8 8 5 4 9 6 9 5 9 8 1]\n"
          ]
        }
      ]
    },
    {
      "cell_type": "code",
      "source": [
        "from sklearn import metrics\n",
        "print(\"Metrics measure for RBF kernal:\")\n",
        "print(\"Accuracy for RBF kernal:\",metrics.accuracy_score(y_test2, ex_pred3))"
      ],
      "metadata": {
        "id": "OcqdWellRwR1",
        "outputId": "5774987a-3dbd-478c-f3a9-9b185f414ea9",
        "colab": {
          "base_uri": "https://localhost:8080/"
        }
      },
      "execution_count": 94,
      "outputs": [
        {
          "output_type": "stream",
          "name": "stdout",
          "text": [
            "Metrics measure for RBF kernal:\n",
            "Accuracy for RBF kernal: 0.9944444444444445\n"
          ]
        }
      ]
    }
  ]
}