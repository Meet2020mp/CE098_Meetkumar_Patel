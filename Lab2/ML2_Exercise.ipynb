{
  "nbformat": 4,
  "nbformat_minor": 0,
  "metadata": {
    "colab": {
      "provenance": [],
      "authorship_tag": "ABX9TyMT4hr7ZH5KOljwaOYXmH9W",
      "include_colab_link": true
    },
    "kernelspec": {
      "name": "python3",
      "display_name": "Python 3"
    },
    "language_info": {
      "name": "python"
    }
  },
  "cells": [
    {
      "cell_type": "markdown",
      "metadata": {
        "id": "view-in-github",
        "colab_type": "text"
      },
      "source": [
        "<a href=\"https://colab.research.google.com/github/Meet2020mp/CE098_Meetkumar_Patel/blob/main/Lab2/ML2_Exercise.ipynb\" target=\"_parent\"><img src=\"https://colab.research.google.com/assets/colab-badge.svg\" alt=\"Open In Colab\"/></a>"
      ]
    },
    {
      "cell_type": "markdown",
      "source": [
        "Exercise:\n",
        "Perform all data preprocessing tasks and feature selection on \"Exercise-CarData.csv\" Hint: Check\n",
        " \"na_values\" attribute of pd.read()"
      ],
      "metadata": {
        "id": "yGKmgLcmtNx3"
      }
    },
    {
      "cell_type": "code",
      "source": [
        "import numpy as np\n",
        "import pandas as pd\n",
        "from google.colab import drive\n",
        "drive.mount(\"/content/drive\")\n",
        "from sklearn.preprocessing import MinMaxScaler, StandardScaler\n",
        "datasets = pd.read_csv('/content/drive/MyDrive/Colab Notebooks/ML Lab2/Exercise-CarData.csv')\n",
        "print(\"\\nData :\\n\",datasets)\n",
        "#print(\"\\nData statistics\\n\",datasets.describe())\n",
        "# Step 3: Seprate Input and Output attributes\n",
        "# All rows, all columns except last\n",
        "X = datasets.iloc[:, :-1].values\n",
        "# Only last column\n",
        "Y = datasets.iloc[:, -1].values\n",
        "#print(\"\\n\\nInput : \\n\", X)\n",
        "#print(\"\\n\\nOutput: \\n\", Y)\n",
        "X_new = datasets.iloc[:,1:3].values\n",
        "print(\"\\n\\nX for transformation : \\n\", X_new)"
      ],
      "metadata": {
        "colab": {
          "base_uri": "https://localhost:8080/"
        },
        "id": "Q9UFIEHQtQn2",
        "outputId": "1310f553-a601-4bcf-c369-5b472dfeaa3a"
      },
      "execution_count": null,
      "outputs": [
        {
          "output_type": "stream",
          "name": "stdout",
          "text": [
            "Mounted at /content/drive\n",
            "\n",
            "Data :\n",
            "       Unnamed: 0  Price   Age     KM FuelType   HP  MetColor  Automatic    CC  \\\n",
            "0              0  13500  23.0  46986   Diesel   90       1.0          0  2000   \n",
            "1              1  13750  23.0  72937   Diesel   90       1.0          0  2000   \n",
            "2              2  13950  24.0  41711   Diesel   90       NaN          0  2000   \n",
            "3              3  14950  26.0  48000   Diesel   90       0.0          0  2000   \n",
            "4              4  13750  30.0  38500   Diesel   90       0.0          0  2000   \n",
            "...          ...    ...   ...    ...      ...  ...       ...        ...   ...   \n",
            "1431        1431   7500   NaN  20544   Petrol   86       1.0          0  1300   \n",
            "1432        1432  10845  72.0     ??   Petrol   86       0.0          0  1300   \n",
            "1433        1433   8500   NaN  17016   Petrol   86       0.0          0  1300   \n",
            "1434        1434   7250  70.0     ??      NaN   86       1.0          0  1300   \n",
            "1435        1435   6950  76.0      1   Petrol  110       0.0          0  1600   \n",
            "\n",
            "      Doors  Weight  \n",
            "0     three    1165  \n",
            "1         3    1165  \n",
            "2         3    1165  \n",
            "3         3    1165  \n",
            "4         3    1170  \n",
            "...     ...     ...  \n",
            "1431      3    1025  \n",
            "1432      3    1015  \n",
            "1433      3    1015  \n",
            "1434      3    1015  \n",
            "1435      5    1114  \n",
            "\n",
            "[1436 rows x 11 columns]\n",
            "\n",
            "\n",
            "X for transformation : \n",
            " [[13500.    23.]\n",
            " [13750.    23.]\n",
            " [13950.    24.]\n",
            " ...\n",
            " [ 8500.    nan]\n",
            " [ 7250.    70.]\n",
            " [ 6950.    76.]]\n"
          ]
        }
      ]
    },
    {
      "cell_type": "markdown",
      "source": [
        "Scaling data:"
      ],
      "metadata": {
        "id": "R0ESbyhytgTe"
      }
    },
    {
      "cell_type": "code",
      "source": [
        "scaler = MinMaxScaler()\n",
        "X_scaled = scaler.fit_transform(X_new)\n",
        "print(\"\\n\\nScaled X : \\n\", X_scaled)"
      ],
      "metadata": {
        "colab": {
          "base_uri": "https://localhost:8080/"
        },
        "id": "BWVv8ATatkL3",
        "outputId": "0fe164d3-f333-40a7-b046-c1f20a1b7184"
      },
      "execution_count": null,
      "outputs": [
        {
          "output_type": "stream",
          "name": "stdout",
          "text": [
            "\n",
            "\n",
            "Scaled X : \n",
            " [[0.3250444  0.27848101]\n",
            " [0.3339254  0.27848101]\n",
            " [0.3410302  0.29113924]\n",
            " ...\n",
            " [0.14742451        nan]\n",
            " [0.10301954 0.87341772]\n",
            " [0.09236234 0.94936709]]\n"
          ]
        }
      ]
    },
    {
      "cell_type": "markdown",
      "source": [
        "Perform standardization on price and age:"
      ],
      "metadata": {
        "id": "AiO3_RDxtubW"
      }
    },
    {
      "cell_type": "code",
      "source": [
        "std = StandardScaler()\n",
        "X_std = std.fit_transform(X_new)\n",
        "print(\"\\n\\nStandardized X : \\n\", X_std)"
      ],
      "metadata": {
        "colab": {
          "base_uri": "https://localhost:8080/"
        },
        "id": "IayDNJXlttj4",
        "outputId": "2b16ba4a-02dc-46bc-8793-6ec1c9924c06"
      },
      "execution_count": null,
      "outputs": [
        {
          "output_type": "stream",
          "name": "stdout",
          "text": [
            "\n",
            "\n",
            "Standardized X : \n",
            " [[ 0.76376268 -1.75818903]\n",
            " [ 0.83271485 -1.75818903]\n",
            " [ 0.88787659 -1.70437596]\n",
            " ...\n",
            " [-0.6152808          nan]\n",
            " [-0.96004167  0.7710253 ]\n",
            " [-1.04278428  1.09390373]]\n"
          ]
        }
      ]
    },
    {
      "cell_type": "markdown",
      "source": [
        "Steps for Handling Categorical Data:"
      ],
      "metadata": {
        "id": "KrNjtAFRumo3"
      }
    },
    {
      "cell_type": "code",
      "source": [
        "print(\"\\nData :\\n\",datasets)\n",
        "print(\"\\nData statistics\\n\",datasets.describe())"
      ],
      "metadata": {
        "colab": {
          "base_uri": "https://localhost:8080/"
        },
        "id": "VE1Mt3pjuoQW",
        "outputId": "2ad1a37b-caf9-4b3c-b660-bebe319e80a1"
      },
      "execution_count": null,
      "outputs": [
        {
          "output_type": "stream",
          "name": "stdout",
          "text": [
            "\n",
            "Data :\n",
            "       Unnamed: 0  Price   Age     KM FuelType   HP  MetColor  Automatic    CC  \\\n",
            "0              0  13500  23.0  46986   Diesel   90       1.0          0  2000   \n",
            "1              1  13750  23.0  72937   Diesel   90       1.0          0  2000   \n",
            "2              2  13950  24.0  41711   Diesel   90       NaN          0  2000   \n",
            "3              3  14950  26.0  48000   Diesel   90       0.0          0  2000   \n",
            "4              4  13750  30.0  38500   Diesel   90       0.0          0  2000   \n",
            "...          ...    ...   ...    ...      ...  ...       ...        ...   ...   \n",
            "1431        1431   7500   NaN  20544   Petrol   86       1.0          0  1300   \n",
            "1432        1432  10845  72.0     ??   Petrol   86       0.0          0  1300   \n",
            "1433        1433   8500   NaN  17016   Petrol   86       0.0          0  1300   \n",
            "1434        1434   7250  70.0     ??      NaN   86       1.0          0  1300   \n",
            "1435        1435   6950  76.0      1   Petrol  110       0.0          0  1600   \n",
            "\n",
            "      Doors  Weight  \n",
            "0     three    1165  \n",
            "1         3    1165  \n",
            "2         3    1165  \n",
            "3         3    1165  \n",
            "4         3    1170  \n",
            "...     ...     ...  \n",
            "1431      3    1025  \n",
            "1432      3    1015  \n",
            "1433      3    1015  \n",
            "1434      3    1015  \n",
            "1435      5    1114  \n",
            "\n",
            "[1436 rows x 11 columns]\n",
            "\n",
            "Data statistics\n",
            "         Unnamed: 0         Price          Age     MetColor    Automatic  \\\n",
            "count  1436.000000   1436.000000  1336.000000  1286.000000  1436.000000   \n",
            "mean    717.500000  10730.824513    55.672156     0.674961     0.055710   \n",
            "std     414.681806   3626.964585    18.589804     0.468572     0.229441   \n",
            "min       0.000000   4350.000000     1.000000     0.000000     0.000000   \n",
            "25%     358.750000   8450.000000    43.000000     0.000000     0.000000   \n",
            "50%     717.500000   9900.000000    60.000000     1.000000     0.000000   \n",
            "75%    1076.250000  11950.000000    70.000000     1.000000     0.000000   \n",
            "max    1435.000000  32500.000000    80.000000     1.000000     1.000000   \n",
            "\n",
            "                CC      Weight  \n",
            "count  1436.000000  1436.00000  \n",
            "mean   1566.827994  1072.45961  \n",
            "std     187.182436    52.64112  \n",
            "min    1300.000000  1000.00000  \n",
            "25%    1400.000000  1040.00000  \n",
            "50%    1600.000000  1070.00000  \n",
            "75%    1600.000000  1085.00000  \n",
            "max    2000.000000  1615.00000  \n"
          ]
        }
      ]
    },
    {
      "cell_type": "code",
      "source": [
        "# All rows, all columns except last\n",
        "X = datasets.iloc[:, :-1].values\n",
        "# Only last column\n",
        "Y = datasets.iloc[:, -1].values\n",
        "print(\"\\n\\nInput : \\n\", X)\n",
        "print(\"\\n\\nOutput: \\n\", Y)"
      ],
      "metadata": {
        "colab": {
          "base_uri": "https://localhost:8080/"
        },
        "id": "uupM_39FvCe_",
        "outputId": "bdd2f040-025a-4e79-a76d-901ff20aed2f"
      },
      "execution_count": null,
      "outputs": [
        {
          "output_type": "stream",
          "name": "stdout",
          "text": [
            "\n",
            "\n",
            "Input : \n",
            " [[0 13500 23.0 ... 0 2000 'three']\n",
            " [1 13750 23.0 ... 0 2000 '3']\n",
            " [2 13950 24.0 ... 0 2000 '3']\n",
            " ...\n",
            " [1433 8500 nan ... 0 1300 '3']\n",
            " [1434 7250 70.0 ... 0 1300 '3']\n",
            " [1435 6950 76.0 ... 0 1600 '5']]\n",
            "\n",
            "\n",
            "Output: \n",
            " [1165 1165 1165 ... 1015 1015 1114]\n"
          ]
        }
      ]
    },
    {
      "cell_type": "code",
      "source": [
        "le = LabelEncoder()\n",
        "X[ : ,0] = le.fit_transform(X[ : ,0])\n",
        "print(\"\\n\\nInput : \\n\", X)"
      ],
      "metadata": {
        "colab": {
          "base_uri": "https://localhost:8080/",
          "height": 200
        },
        "id": "G908Pg8L3daR",
        "outputId": "7eb7deda-a199-4842-ef38-f9c01b501e50"
      },
      "execution_count": null,
      "outputs": [
        {
          "output_type": "error",
          "ename": "NameError",
          "evalue": "ignored",
          "traceback": [
            "\u001b[0;31m---------------------------------------------------------------------------\u001b[0m",
            "\u001b[0;31mNameError\u001b[0m                                 Traceback (most recent call last)",
            "\u001b[0;32m<ipython-input-8-912b72c0ebc1>\u001b[0m in \u001b[0;36m<module>\u001b[0;34m\u001b[0m\n\u001b[0;32m----> 1\u001b[0;31m \u001b[0mle\u001b[0m \u001b[0;34m=\u001b[0m \u001b[0mLabelEncoder\u001b[0m\u001b[0;34m(\u001b[0m\u001b[0;34m)\u001b[0m\u001b[0;34m\u001b[0m\u001b[0;34m\u001b[0m\u001b[0m\n\u001b[0m\u001b[1;32m      2\u001b[0m \u001b[0mX\u001b[0m\u001b[0;34m[\u001b[0m \u001b[0;34m:\u001b[0m \u001b[0;34m,\u001b[0m\u001b[0;36m0\u001b[0m\u001b[0;34m]\u001b[0m \u001b[0;34m=\u001b[0m \u001b[0mle\u001b[0m\u001b[0;34m.\u001b[0m\u001b[0mfit_transform\u001b[0m\u001b[0;34m(\u001b[0m\u001b[0mX\u001b[0m\u001b[0;34m[\u001b[0m \u001b[0;34m:\u001b[0m \u001b[0;34m,\u001b[0m\u001b[0;36m0\u001b[0m\u001b[0;34m]\u001b[0m\u001b[0;34m)\u001b[0m\u001b[0;34m\u001b[0m\u001b[0;34m\u001b[0m\u001b[0m\n\u001b[1;32m      3\u001b[0m \u001b[0mprint\u001b[0m\u001b[0;34m(\u001b[0m\u001b[0;34m\"\\n\\nInput : \\n\"\u001b[0m\u001b[0;34m,\u001b[0m \u001b[0mX\u001b[0m\u001b[0;34m)\u001b[0m\u001b[0;34m\u001b[0m\u001b[0;34m\u001b[0m\u001b[0m\n",
            "\u001b[0;31mNameError\u001b[0m: name 'LabelEncoder' is not defined"
          ]
        }
      ]
    }
  ]
}