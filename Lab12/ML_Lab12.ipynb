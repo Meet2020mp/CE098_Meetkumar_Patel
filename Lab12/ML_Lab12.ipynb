{
  "nbformat": 4,
  "nbformat_minor": 0,
  "metadata": {
    "colab": {
      "provenance": [],
      "authorship_tag": "ABX9TyNitkx7i/vOlPUR3EsTGS5O",
      "include_colab_link": true
    },
    "kernelspec": {
      "name": "python3",
      "display_name": "Python 3"
    },
    "language_info": {
      "name": "python"
    }
  },
  "cells": [
    {
      "cell_type": "markdown",
      "metadata": {
        "id": "view-in-github",
        "colab_type": "text"
      },
      "source": [
        "<a href=\"https://colab.research.google.com/github/Meet2020mp/ML_CE098_Meetkumar_Patel/blob/main/Lab12/ML_Lab12.ipynb\" target=\"_parent\"><img src=\"https://colab.research.google.com/assets/colab-badge.svg\" alt=\"Open In Colab\"/></a>"
      ]
    },
    {
      "cell_type": "code",
      "execution_count": 12,
      "metadata": {
        "id": "oVw2--rg8mVn"
      },
      "outputs": [],
      "source": [
        "import matplotlib.pyplot as plt\n",
        "import numpy as np\n",
        "import pandas as pd\n",
        "import torchvision\n",
        "import torch\n",
        "import torch.nn as nn\n",
        "from torch.autograd import Variable\n",
        "from torch.utils.data import DataLoader\n",
        "from torchvision import datasets, transforms\n",
        "\n",
        "import tensorflow\n",
        "\n",
        "from sklearn.model_selection import train_test_split"
      ]
    },
    {
      "cell_type": "code",
      "source": [
        "from tensorflow.keras.datasets import mnist\n",
        "(features_train, targets_train), (features_test,targets_test) = mnist.load_data()\n",
        "batch_size_train = 64\n",
        "batch_size_test = 1000\n",
        "n_iters = 5000\n",
        "log_interval = 10\n",
        "\n",
        "num_epochs = n_iters / (len(features_train) / batch_size_train)\n",
        "num_epochs = int(num_epochs)"
      ],
      "metadata": {
        "id": "lyXA_ExK-T_8"
      },
      "execution_count": 13,
      "outputs": []
    },
    {
      "cell_type": "code",
      "source": [
        "transform = transforms.Compose([transforms.ToTensor(),\n",
        "                              transforms.Normalize((0.5,), (0.5,)),\n",
        "                              ])\n",
        "trainset = datasets.MNIST('/Lab12', download=True, train=True, transform=transform)\n",
        "valset = datasets.MNIST('/Lab12', download=True, train=False, transform=transform)\n",
        "trainloader = torch.utils.data.DataLoader(trainset, batch_size=64, shuffle=True)\n",
        "valloader = torch.utils.data.DataLoader(valset, batch_size=64, shuffle=True)"
      ],
      "metadata": {
        "id": "sDbjFl1pQFEw"
      },
      "execution_count": 14,
      "outputs": []
    },
    {
      "cell_type": "code",
      "source": [
        "import torch.nn.functional as F\n",
        "\n",
        "class ANNModel(nn.Module):\n",
        "\n",
        "  def __init__(self, input_dim, hidden_dim, output_dim):\n",
        "      super(ANNModel, self).__init__()\n",
        "      self.conv1 = nn.Conv2d(1, 32, 3, 1)\n",
        "      self.conv2 = nn.Conv2d(32, 64, 3, 1)\n",
        "      self.dropout1 = nn.Dropout2d(0.25)\n",
        "      self.dropout2 = nn.Dropout2d(0.5)\n",
        "      self.fc1 = nn.Linear(9216, 128)\n",
        "      self.fc2 = nn.Linear(128, 10)\n",
        "\n",
        "    # x represents our data\n",
        "  def forward(self, x):\n",
        "      # Pass data through conv1\n",
        "      x = self.conv1(x)\n",
        "      # Use the rectified-linear activation function over x\n",
        "      x = F.relu(x)\n",
        "\n",
        "      x = self.conv2(x)\n",
        "      x = F.relu(x)\n",
        "\n",
        "      # Run max pooling over x\n",
        "      x = F.max_pool2d(x, 2)\n",
        "      # Pass data through dropout1\n",
        "      x = self.dropout1(x)\n",
        "      # Flatten x with start_dim=1\n",
        "      x = torch.flatten(x, 1)\n",
        "      # Pass data through fc1\n",
        "      x = self.fc1(x)\n",
        "      x = F.relu(x)\n",
        "      x = self.dropout2(x)\n",
        "      x = self.fc2(x)\n",
        "\n",
        "      # Apply softmax to x\n",
        "      output = F.log_softmax(x, dim=1)\n",
        "      return output\n",
        "\n",
        "\n",
        "  # instantiate ANN\n",
        "input_dim = 28*28\n",
        "hidden_dim = 150 \n",
        "output_dim = 10\n",
        "\n",
        "# Create ANN\n",
        "model = ANNModel(input_dim, hidden_dim, output_dim)\n",
        "\n",
        "# SGD Optimizer\n",
        "learning_rate = 0.02\n",
        "optimizer = torch.optim.SGD(model.parameters(),lr=learning_rate)"
      ],
      "metadata": {
        "id": "PlL-6dX9-2_S"
      },
      "execution_count": 15,
      "outputs": []
    },
    {
      "cell_type": "code",
      "source": [
        "images, labels = next(iter(trainloader))\n",
        "images = images.view(images.shape[0], -1)"
      ],
      "metadata": {
        "id": "MNgy-mPNSjN-"
      },
      "execution_count": 16,
      "outputs": []
    },
    {
      "cell_type": "code",
      "source": [
        "# from time import time\n",
        "\n",
        "# optimizer = torch.optim.SGD(model.parameters(), lr=0.003, momentum=0.9)\n",
        "# time0 = time()\n",
        "# epochs = 15\n",
        "# for e in range(epochs):\n",
        "#     running_loss = 0\n",
        "#     for images, labels in trainloader:\n",
        "#         # Flatten MNIST images into a 784 long vector\n",
        "#         images = images.view(images.shape[0], -1)\n",
        "    \n",
        "#         # Training pass\n",
        "#         optimizer.zero_grad()\n",
        "        \n",
        "#         output = model(images)\n",
        "#         loss = criterion(output, labels)\n",
        "        \n",
        "#         #This is where the model learns by backpropagating\n",
        "#         loss.backward()\n",
        "        \n",
        "#         #And optimizes its weights here\n",
        "#         optimizer.step()\n",
        "        \n",
        "#         running_loss += loss.item()\n",
        "#     else:\n",
        "#         print(\"Epoch {} - Training loss: {}\".format(e, running_loss/len(trainloader)))\n",
        "# print(\"\\nTraining Time (in minutes) =\",(time()-time0)/60)"
      ],
      "metadata": {
        "id": "ztVPceFLPyNo"
      },
      "execution_count": 17,
      "outputs": []
    },
    {
      "cell_type": "code",
      "source": [
        "import matplotlib.pyplot as plt\n",
        "import numpy as np\n",
        "import pandas as pd\n",
        "import torch\n",
        "import torch.nn as nn\n",
        "from torch.autograd import Variable\n",
        "from torch.utils.data import TensorDataset,DataLoader\n",
        "import tensorflow\n",
        "from sklearn.model_selection import train_test_split\n",
        "from tensorflow.keras.datasets import mnist\n",
        "from sklearn.preprocessing import MinMaxScaler\n",
        "from random import random\n",
        "\n",
        "def flatten(X_data):\n",
        "    flatten_data=[]\n",
        "    for i in range(len(X_data)):\n",
        "        sample=X_data[i]\n",
        "        flatten_row=[]\n",
        "        for row in sample:\n",
        "            flatten_row+=list(row)\n",
        "        flatten_data.append(np.array(flatten_row,dtype='float32'))\n",
        "    return np.array(flatten_data)\n",
        "\n",
        "class ANNModel(nn.Module):\n",
        "    def __init__(self, input_dim, hidden_dim, output_dim):\n",
        "        super(ANNModel, self).__init__()\n",
        "        self.fc1 = nn.Linear(input_dim, hidden_dim)\n",
        "        self.sigmoid = nn.Sigmoid()\n",
        "        self.fc2 = nn.Linear(hidden_dim, output_dim)\n",
        "        \n",
        "    def forward(self, x):\n",
        "        out = self.fc1(x)\n",
        "        out = self.sigmoid(out)\n",
        "        out = self.fc2(out)\n",
        "        out = self.sigmoid(out)\n",
        "        return out\n",
        "\n",
        "    def predict(self,x):\n",
        "        output=self.forward(x).tolist()[0]\n",
        "        lbl=output.index(max(output))\n",
        "        return lbl\n",
        "        pass\n",
        "\n",
        "(X_train, y_train), (X_test,y_test) = mnist.load_data()\n",
        "\n",
        "X_train=X_train[0:200]\n",
        "y_train=y_train[0:200]\n",
        "\n",
        "sample_image_mat=X_train[int(random()*len(X_train))]\n",
        "plt.imshow(sample_image_mat)\n",
        "plt.show()\n",
        "\n",
        "X_train=flatten(X_train)\n",
        "\n",
        "scaler = MinMaxScaler().fit(X_train)\n",
        "X_train=scaler.transform(X_train)\n",
        "\n",
        "X_train=torch.tensor(X_train)\n",
        "y_train=torch.tensor(y_train)\n",
        "\n",
        "print(y_train[0])\n",
        "\n",
        "batch_size = 10\n",
        "n_iters = 5000\n",
        "\n",
        "num_epochs = n_iters / (len(X_train) / batch_size)\n",
        "num_epochs = int(num_epochs)\n",
        "\n",
        "print(\"Number Of Epochs : \",num_epochs)\n",
        "trainset=TensorDataset(X_train,y_train)\n",
        "trainloader = DataLoader(trainset, batch_size=batch_size, shuffle=True)\n",
        "\n",
        "\n",
        "\n",
        "input_dim = X_train.shape[1]\n",
        "hidden_dim = 100\n",
        "output_dim = 10\n",
        "\n",
        "model = ANNModel(input_dim, hidden_dim, output_dim)\n",
        "\n",
        "criterion = nn.CrossEntropyLoss()\n",
        "learning_rate = 0.1\n",
        "optimizer = torch.optim.SGD(model.parameters(), lr=learning_rate)\n",
        "\n",
        "\n",
        "for epoch in range(num_epochs):\n",
        "  for i, (images, labels) in enumerate(trainloader):\n",
        "    inputs = Variable(images.view(-1, input_dim))\n",
        "    labels = Variable(labels)\n",
        "    optimizer.zero_grad()\n",
        "    outputs = model(inputs)\n",
        "    loss = criterion(outputs, labels)\n",
        "    loss.backward()\n",
        "    optimizer.step()\n",
        "    pass\n",
        "  pass\n",
        "\n",
        "\n",
        "sample=torch.tensor(flatten([sample_image_mat]))\n",
        "print(\"prediction :\",model.predict(sample))\n",
        "# y_pred=torch.tensor(model.predict(X_test))\n",
        "# print(accuracy_score(y_test,y_pred))"
      ],
      "metadata": {
        "colab": {
          "base_uri": "https://localhost:8080/",
          "height": 317
        },
        "id": "L381ovgfrdtI",
        "outputId": "9182040c-0256-4b69-de6f-abfcf152c0c2"
      },
      "execution_count": 18,
      "outputs": [
        {
          "output_type": "display_data",
          "data": {
            "text/plain": [
              "<Figure size 432x288 with 1 Axes>"
            ],
            "image/png": "[encoded data removed]"
          },
          "metadata": {
            "needs_background": "light"
          }
        },
        {
          "output_type": "stream",
          "name": "stdout",
          "text": [
            "tensor(5, dtype=torch.uint8)\n",
            "Number Of Epochs :  250\n",
            "prediction : 1\n"
          ]
        }
      ]
    },
    {
      "cell_type": "code",
      "source": [
        "import matplotlib.pyplot as plt\n",
        "import numpy as np\n",
        "import pandas as pd\n",
        "import torch\n",
        "import torch.nn as nn\n",
        "from torch.autograd import Variable\n",
        "from torch.utils.data import DataLoader\n",
        "import tensorflow\n",
        "from sklearn.model_selection import train_test_split\n",
        "from tensorflow.keras.datasets import mnist\n",
        "from sklearn.preprocessing import MinMaxScaler\n",
        "from random import random\n",
        "\n",
        "def flatten(X_data):\n",
        "  flatten_data=[]\n",
        "  for i in range(len(X_data)):\n",
        "    sample=X_data[i]\n",
        "    flatten_row=[]\n",
        "    for row in sample:\n",
        "      flatten_row+=list(row)\n",
        "      pass\n",
        "    pass\n",
        "    flatten_data.append(np.array(flatten_row,dtype='float32'))\n",
        "    pass\n",
        "  return np.array(flatten_data)\n",
        "  pass\n",
        "\n",
        "\n",
        "(X_train, y_train), (X_test,y_test) = mnist.load_data()\n",
        "\n",
        "X_train=X_train[0:100]\n",
        "y_train=y_train[0:100]\n",
        "\n",
        "# visualize one of the images in data set\n",
        "sample_image_mat=X_train[int(random()*len(X_train))]\n",
        "plt.imshow(sample_image_mat)\n",
        "plt.show()\n",
        "\n",
        "X_train=flatten(X_train)\n",
        "\n",
        "scaler = MinMaxScaler().fit(X_train)\n",
        "X_train=scaler.transform(X_train)\n",
        "\n",
        "X_train=torch.tensor(X_train)\n",
        "\n",
        "y_train=torch.tensor(y_train)\n",
        "\n",
        "batch_size = 100\n",
        "n_iters = 5000\n",
        "\n",
        "num_epochs = n_iters / (len(X_train) / batch_size)\n",
        "num_epochs = int(num_epochs)\n",
        "\n",
        "print(\"num_epochs : \",num_epochs)\n",
        "trainset=np.array(list(zip(X_train,y_train)))\n",
        "trainloader = DataLoader(trainset, batch_size=batch_size,shuffle=True)\n"
      ],
      "metadata": {
        "colab": {
          "base_uri": "https://localhost:8080/",
          "height": 372
        },
        "id": "755zcfXIrf1w",
        "outputId": "e2f9056d-504b-4015-ca58-f701091a9baf"
      },
      "execution_count": 19,
      "outputs": [
        {
          "output_type": "display_data",
          "data": {
            "text/plain": [
              "<Figure size 432x288 with 1 Axes>"
            ],
            "image/png": "[encoded data removed]"
          },
          "metadata": {
            "needs_background": "light"
          }
        },
        {
          "output_type": "stream",
          "name": "stdout",
          "text": [
            "num_epochs :  5000\n"
          ]
        },
        {
          "output_type": "stream",
          "name": "stderr",
          "text": [
            "<ipython-input-19-6aee907deba0>:55: FutureWarning: The input object of type 'Tensor' is an array-like implementing one of the corresponding protocols (`__array__`, `__array_interface__` or `__array_struct__`); but not a sequence (or 0-D). In the future, this object will be coerced as if it was first converted using `np.array(obj)`. To retain the old behaviour, you have to either modify the type 'Tensor', or assign to an empty array created with `np.empty(correct_shape, dtype=object)`.\n",
            "  trainset=np.array(list(zip(X_train,y_train)))\n",
            "<ipython-input-19-6aee907deba0>:55: VisibleDeprecationWarning: Creating an ndarray from ragged nested sequences (which is a list-or-tuple of lists-or-tuples-or ndarrays with different lengths or shapes) is deprecated. If you meant to do this, you must specify 'dtype=object' when creating the ndarray.\n",
            "  trainset=np.array(list(zip(X_train,y_train)))\n"
          ]
        }
      ]
    },
    {
      "cell_type": "code",
      "source": [
        "import matplotlib.pyplot as plt\n",
        "import numpy as np\n",
        "import pandas as pd\n",
        "import torch\n",
        "import torch.nn as nn\n",
        "from torch.autograd import Variable\n",
        "from torch.utils.data import TensorDataset,DataLoader\n",
        "import tensorflow\n",
        "from sklearn.model_selection import train_test_split\n",
        "from tensorflow.keras.datasets import mnist\n",
        "import tensorflow as tf\n",
        "from sklearn.preprocessing import MinMaxScaler\n",
        "from sklearn.metrics import accuracy_score\n",
        "from random import random\n",
        "\n",
        "def flatten(X_data):\n",
        "    flatten_data=[]\n",
        "    for i in range(len(X_data)):\n",
        "        sample=X_data[i]\n",
        "        flatten_row=[]\n",
        "        for row in sample:\n",
        "            flatten_row+=list(row)\n",
        "        flatten_data.append(np.array(flatten_row,dtype='float32'))\n",
        "    return np.array(flatten_data)\n",
        "\n",
        "class ANNModel(nn.Module):\n",
        "    def __init__(self, input_dim, hidden_dim1,hidden_dim2, output_dim):\n",
        "        super(ANNModel, self).__init__()\n",
        "        self.sigmoid = nn.Sigmoid()\n",
        "        self.fc1 = nn.Linear(input_dim, hidden_dim1)\n",
        "        self.fc2 = nn.Linear(hidden_dim1, output_dim)\n",
        "        \n",
        "    def forward(self, x):\n",
        "        out = self.fc1(x)\n",
        "        out = self.sigmoid(out)\n",
        "        out = self.fc2(out)\n",
        "        out = self.sigmoid(out)\n",
        "\n",
        "        \n",
        "        return out\n",
        "\n",
        "    def predict(self,x):\n",
        "        \n",
        "        output=self.forward(x).tolist()\n",
        "        output_labels=[]\n",
        "        for elem in output : \n",
        "          lbl=elem.index(max(elem))\n",
        "          output_labels.append(lbl)\n",
        "        output_labels=np.array(output_labels)\n",
        "        return output_labels\n",
        "        pass\n",
        "\n",
        "(X_train, y_train), (X_test,y_test) = mnist.load_data()\n",
        "\n",
        "X_train=X_train[0:100]\n",
        "X_test=X_test[0:100]\n",
        "y_train=y_train[0:100]\n",
        "y_test=y_test[0:100]\n",
        "\n",
        "sample_image_mat=X_train[int(random()*len(X_train))]\n",
        "plt.imshow(sample_image_mat)\n",
        "plt.show()\n",
        "\n",
        "X_train=flatten(X_train)\n",
        "X_test=flatten(X_test)\n",
        "\n",
        "scaler = MinMaxScaler().fit(X_train)\n",
        "X_train=scaler.transform(X_train)\n",
        "\n",
        "X_train=torch.tensor(X_train)\n",
        "X_test=torch.tensor(X_test)\n",
        "y_train=torch.tensor(y_train)\n",
        "y_test=torch.tensor(y_test)\n",
        "\n",
        "print(y_train[0])\n",
        "\n",
        "batch_size = 10\n",
        "n_iters = 10000\n",
        "\n",
        "num_epochs = n_iters / (len(X_train) / batch_size)\n",
        "num_epochs = int(num_epochs)\n",
        "\n",
        "print(\"num_epochs : \",num_epochs)\n",
        "trainset=TensorDataset(X_train,y_train)\n",
        "trainloader = DataLoader(trainset, batch_size=batch_size, shuffle=True)\n",
        "\n",
        "\n",
        "input_dim = X_train.shape[1]\n",
        "hidden_dim1 = 10\n",
        "hidden_dim2 = 10\n",
        "output_dim = 10\n",
        "\n",
        "model = ANNModel(input_dim, hidden_dim1,hidden_dim2, output_dim)\n",
        "\n",
        "criterion=nn.MSELoss()\n",
        "\n",
        "learning_rate = 0.1\n",
        "optimizer = torch.optim.SGD(model.parameters(), lr=learning_rate)\n",
        "\n",
        "\n",
        "for epoch in range(num_epochs):\n",
        "  for i, (images, labels) in enumerate(trainloader):\n",
        "    inputs = Variable(images.view(-1, input_dim))\n",
        "    labels = Variable(labels)\n",
        "    optimizer.zero_grad()\n",
        "    outputs=model(inputs)\n",
        "    loss = criterion(outputs, labels)\n",
        "    optimizer.step()\n",
        "    pass\n",
        "  pass\n",
        "\n",
        "\n",
        "sample=torch.tensor(flatten([sample_image_mat]))\n",
        "print(model.predict(sample))\n",
        "# y_pred=torch.tensor(model.predict(X_test))\n",
        "# print(accuracy_score(y_test,y_pred))"
      ],
      "metadata": {
        "colab": {
          "base_uri": "https://localhost:8080/",
          "height": 372
        },
        "id": "5tSljv5BraLB",
        "outputId": "8b0d3fd4-6881-4885-e542-5d253b815ab7"
      },
      "execution_count": 20,
      "outputs": [
        {
          "output_type": "display_data",
          "data": {
            "text/plain": [
              "<Figure size 432x288 with 1 Axes>"
            ],
            "image/png": "[encoded data removed]"
          },
          "metadata": {
            "needs_background": "light"
          }
        },
        {
          "output_type": "stream",
          "name": "stdout",
          "text": [
            "tensor(5, dtype=torch.uint8)\n",
            "num_epochs :  1000\n"
          ]
        },
        {
          "output_type": "stream",
          "name": "stderr",
          "text": [
            "/usr/local/lib/python3.9/dist-packages/torch/nn/modules/loss.py:536: UserWarning: Using a target size (torch.Size([10])) that is different to the input size (torch.Size([10, 10])). This will likely lead to incorrect results due to broadcasting. Please ensure they have the same size.\n",
            "  return F.mse_loss(input, target, reduction=self.reduction)\n"
          ]
        },
        {
          "output_type": "stream",
          "name": "stdout",
          "text": [
            "[2]\n"
          ]
        }
      ]
    }
  ]
}